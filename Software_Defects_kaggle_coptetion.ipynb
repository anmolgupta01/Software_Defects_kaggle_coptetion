{
 "cells": [
  {
   "cell_type": "code",
   "execution_count": 1,
   "id": "6e2fa63d",
   "metadata": {
    "_cell_guid": "b1076dfc-b9ad-4769-8c92-a6c4dae69d19",
    "_uuid": "8f2839f25d086af736a60e9eeb907d3b93b6e0e5",
    "execution": {
     "iopub.execute_input": "2023-10-21T06:01:09.883556Z",
     "iopub.status.busy": "2023-10-21T06:01:09.882599Z",
     "iopub.status.idle": "2023-10-21T06:01:10.307671Z",
     "shell.execute_reply": "2023-10-21T06:01:10.306356Z"
    },
    "papermill": {
     "duration": 0.446725,
     "end_time": "2023-10-21T06:01:10.311175",
     "exception": false,
     "start_time": "2023-10-21T06:01:09.864450",
     "status": "completed"
    },
    "tags": []
   },
   "outputs": [
    {
     "name": "stdout",
     "output_type": "stream",
     "text": [
      "/kaggle/input/playground-series-s3e23/sample_submission.csv\n",
      "/kaggle/input/playground-series-s3e23/train.csv\n",
      "/kaggle/input/playground-series-s3e23/test.csv\n"
     ]
    }
   ],
   "source": [
    "# This Python 3 environment comes with many helpful analytics libraries installed\n",
    "# It is defined by the kaggle/python Docker image: https://github.com/kaggle/docker-python\n",
    "# For example, here's several helpful packages to load\n",
    "\n",
    "import numpy as np # linear algebra\n",
    "import pandas as pd # data processing, CSV file I/O (e.g. pd.read_csv)\n",
    "\n",
    "# Input data files are available in the read-only \"../input/\" directory\n",
    "# For example, running this (by clicking run or pressing Shift+Enter) will list all files under the input directory\n",
    "\n",
    "import os\n",
    "for dirname, _, filenames in os.walk('/kaggle/input'):\n",
    "    for filename in filenames:\n",
    "        print(os.path.join(dirname, filename))\n",
    "\n",
    "# You can write up to 20GB to the current directory (/kaggle/working/) that gets preserved as output when you create a version using \"Save & Run All\" \n",
    "# You can also write temporary files to /kaggle/temp/, but they won't be saved outside of the current session"
   ]
  },
  {
   "cell_type": "markdown",
   "id": "a4c098aa",
   "metadata": {
    "papermill": {
     "duration": 0.015428,
     "end_time": "2023-10-21T06:01:10.344149",
     "exception": false,
     "start_time": "2023-10-21T06:01:10.328721",
     "status": "completed"
    },
    "tags": []
   },
   "source": [
    "# IMPORTING BASIC LIBRARIES"
   ]
  },
  {
   "cell_type": "code",
   "execution_count": 2,
   "id": "6209769a",
   "metadata": {
    "execution": {
     "iopub.execute_input": "2023-10-21T06:01:10.377246Z",
     "iopub.status.busy": "2023-10-21T06:01:10.376727Z",
     "iopub.status.idle": "2023-10-21T06:01:12.298920Z",
     "shell.execute_reply": "2023-10-21T06:01:12.297645Z"
    },
    "papermill": {
     "duration": 1.942131,
     "end_time": "2023-10-21T06:01:12.301935",
     "exception": false,
     "start_time": "2023-10-21T06:01:10.359804",
     "status": "completed"
    },
    "tags": []
   },
   "outputs": [],
   "source": [
    "import pandas as pd\n",
    "import numpy as np\n",
    "import seaborn as sns \n",
    "import matplotlib.pyplot as plt \n",
    "import warnings\n",
    "warnings.filterwarnings('ignore')\n",
    "from sklearn.preprocessing import StandardScaler\n",
    "from sklearn.model_selection import train_test_split\n",
    "from sklearn.linear_model import LogisticRegression\n",
    "from sklearn.metrics import confusion_matrix,accuracy_score,classification_report\n",
    "from sklearn.model_selection import RandomizedSearchCV"
   ]
  },
  {
   "cell_type": "code",
   "execution_count": 3,
   "id": "6e89e71d",
   "metadata": {
    "execution": {
     "iopub.execute_input": "2023-10-21T06:01:12.334884Z",
     "iopub.status.busy": "2023-10-21T06:01:12.334441Z",
     "iopub.status.idle": "2023-10-21T06:01:13.102723Z",
     "shell.execute_reply": "2023-10-21T06:01:13.101523Z"
    },
    "papermill": {
     "duration": 0.78797,
     "end_time": "2023-10-21T06:01:13.105524",
     "exception": false,
     "start_time": "2023-10-21T06:01:12.317554",
     "status": "completed"
    },
    "tags": []
   },
   "outputs": [],
   "source": [
    "train_df = pd.read_csv('/kaggle/input/playground-series-s3e23/train.csv')\n",
    "test_df = pd.read_csv('/kaggle/input/playground-series-s3e23/test.csv')"
   ]
  },
  {
   "cell_type": "markdown",
   "id": "af2d3d91",
   "metadata": {
    "papermill": {
     "duration": 0.015347,
     "end_time": "2023-10-21T06:01:13.136834",
     "exception": false,
     "start_time": "2023-10-21T06:01:13.121487",
     "status": "completed"
    },
    "tags": []
   },
   "source": [
    "# Data Exploration"
   ]
  },
  {
   "cell_type": "code",
   "execution_count": 4,
   "id": "4f2a8e9b",
   "metadata": {
    "execution": {
     "iopub.execute_input": "2023-10-21T06:01:13.169711Z",
     "iopub.status.busy": "2023-10-21T06:01:13.169325Z",
     "iopub.status.idle": "2023-10-21T06:01:13.240727Z",
     "shell.execute_reply": "2023-10-21T06:01:13.239600Z"
    },
    "papermill": {
     "duration": 0.091033,
     "end_time": "2023-10-21T06:01:13.243340",
     "exception": false,
     "start_time": "2023-10-21T06:01:13.152307",
     "status": "completed"
    },
    "tags": []
   },
   "outputs": [
    {
     "data": {
      "text/html": [
       "<div>\n",
       "<style scoped>\n",
       "    .dataframe tbody tr th:only-of-type {\n",
       "        vertical-align: middle;\n",
       "    }\n",
       "\n",
       "    .dataframe tbody tr th {\n",
       "        vertical-align: top;\n",
       "    }\n",
       "\n",
       "    .dataframe thead th {\n",
       "        text-align: right;\n",
       "    }\n",
       "</style>\n",
       "<table border=\"1\" class=\"dataframe\">\n",
       "  <thead>\n",
       "    <tr style=\"text-align: right;\">\n",
       "      <th></th>\n",
       "      <th>id</th>\n",
       "      <th>loc</th>\n",
       "      <th>v(g)</th>\n",
       "      <th>ev(g)</th>\n",
       "      <th>iv(g)</th>\n",
       "      <th>n</th>\n",
       "      <th>v</th>\n",
       "      <th>l</th>\n",
       "      <th>d</th>\n",
       "      <th>i</th>\n",
       "      <th>...</th>\n",
       "      <th>lOCode</th>\n",
       "      <th>lOComment</th>\n",
       "      <th>lOBlank</th>\n",
       "      <th>locCodeAndComment</th>\n",
       "      <th>uniq_Op</th>\n",
       "      <th>uniq_Opnd</th>\n",
       "      <th>total_Op</th>\n",
       "      <th>total_Opnd</th>\n",
       "      <th>branchCount</th>\n",
       "      <th>defects</th>\n",
       "    </tr>\n",
       "  </thead>\n",
       "  <tbody>\n",
       "    <tr>\n",
       "      <th>0</th>\n",
       "      <td>0</td>\n",
       "      <td>22.0</td>\n",
       "      <td>3.0</td>\n",
       "      <td>1.0</td>\n",
       "      <td>2.0</td>\n",
       "      <td>60.0</td>\n",
       "      <td>278.63</td>\n",
       "      <td>0.06</td>\n",
       "      <td>19.56</td>\n",
       "      <td>14.25</td>\n",
       "      <td>...</td>\n",
       "      <td>17</td>\n",
       "      <td>1</td>\n",
       "      <td>1</td>\n",
       "      <td>0</td>\n",
       "      <td>16.0</td>\n",
       "      <td>9.0</td>\n",
       "      <td>38.0</td>\n",
       "      <td>22.0</td>\n",
       "      <td>5.0</td>\n",
       "      <td>False</td>\n",
       "    </tr>\n",
       "    <tr>\n",
       "      <th>1</th>\n",
       "      <td>1</td>\n",
       "      <td>14.0</td>\n",
       "      <td>2.0</td>\n",
       "      <td>1.0</td>\n",
       "      <td>2.0</td>\n",
       "      <td>32.0</td>\n",
       "      <td>151.27</td>\n",
       "      <td>0.14</td>\n",
       "      <td>7.00</td>\n",
       "      <td>21.11</td>\n",
       "      <td>...</td>\n",
       "      <td>11</td>\n",
       "      <td>0</td>\n",
       "      <td>1</td>\n",
       "      <td>0</td>\n",
       "      <td>11.0</td>\n",
       "      <td>11.0</td>\n",
       "      <td>18.0</td>\n",
       "      <td>14.0</td>\n",
       "      <td>3.0</td>\n",
       "      <td>False</td>\n",
       "    </tr>\n",
       "    <tr>\n",
       "      <th>2</th>\n",
       "      <td>2</td>\n",
       "      <td>11.0</td>\n",
       "      <td>2.0</td>\n",
       "      <td>1.0</td>\n",
       "      <td>2.0</td>\n",
       "      <td>45.0</td>\n",
       "      <td>197.65</td>\n",
       "      <td>0.11</td>\n",
       "      <td>8.05</td>\n",
       "      <td>22.76</td>\n",
       "      <td>...</td>\n",
       "      <td>8</td>\n",
       "      <td>0</td>\n",
       "      <td>1</td>\n",
       "      <td>0</td>\n",
       "      <td>12.0</td>\n",
       "      <td>11.0</td>\n",
       "      <td>28.0</td>\n",
       "      <td>17.0</td>\n",
       "      <td>3.0</td>\n",
       "      <td>False</td>\n",
       "    </tr>\n",
       "    <tr>\n",
       "      <th>3</th>\n",
       "      <td>3</td>\n",
       "      <td>8.0</td>\n",
       "      <td>1.0</td>\n",
       "      <td>1.0</td>\n",
       "      <td>1.0</td>\n",
       "      <td>23.0</td>\n",
       "      <td>94.01</td>\n",
       "      <td>0.19</td>\n",
       "      <td>5.25</td>\n",
       "      <td>17.86</td>\n",
       "      <td>...</td>\n",
       "      <td>4</td>\n",
       "      <td>0</td>\n",
       "      <td>2</td>\n",
       "      <td>0</td>\n",
       "      <td>8.0</td>\n",
       "      <td>6.0</td>\n",
       "      <td>16.0</td>\n",
       "      <td>7.0</td>\n",
       "      <td>1.0</td>\n",
       "      <td>True</td>\n",
       "    </tr>\n",
       "    <tr>\n",
       "      <th>4</th>\n",
       "      <td>4</td>\n",
       "      <td>11.0</td>\n",
       "      <td>2.0</td>\n",
       "      <td>1.0</td>\n",
       "      <td>2.0</td>\n",
       "      <td>17.0</td>\n",
       "      <td>60.94</td>\n",
       "      <td>0.18</td>\n",
       "      <td>5.63</td>\n",
       "      <td>12.44</td>\n",
       "      <td>...</td>\n",
       "      <td>7</td>\n",
       "      <td>0</td>\n",
       "      <td>2</td>\n",
       "      <td>0</td>\n",
       "      <td>7.0</td>\n",
       "      <td>6.0</td>\n",
       "      <td>10.0</td>\n",
       "      <td>10.0</td>\n",
       "      <td>3.0</td>\n",
       "      <td>False</td>\n",
       "    </tr>\n",
       "    <tr>\n",
       "      <th>...</th>\n",
       "      <td>...</td>\n",
       "      <td>...</td>\n",
       "      <td>...</td>\n",
       "      <td>...</td>\n",
       "      <td>...</td>\n",
       "      <td>...</td>\n",
       "      <td>...</td>\n",
       "      <td>...</td>\n",
       "      <td>...</td>\n",
       "      <td>...</td>\n",
       "      <td>...</td>\n",
       "      <td>...</td>\n",
       "      <td>...</td>\n",
       "      <td>...</td>\n",
       "      <td>...</td>\n",
       "      <td>...</td>\n",
       "      <td>...</td>\n",
       "      <td>...</td>\n",
       "      <td>...</td>\n",
       "      <td>...</td>\n",
       "      <td>...</td>\n",
       "    </tr>\n",
       "    <tr>\n",
       "      <th>101758</th>\n",
       "      <td>101758</td>\n",
       "      <td>10.0</td>\n",
       "      <td>2.0</td>\n",
       "      <td>1.0</td>\n",
       "      <td>1.0</td>\n",
       "      <td>28.0</td>\n",
       "      <td>122.98</td>\n",
       "      <td>0.15</td>\n",
       "      <td>6.60</td>\n",
       "      <td>18.63</td>\n",
       "      <td>...</td>\n",
       "      <td>7</td>\n",
       "      <td>0</td>\n",
       "      <td>1</td>\n",
       "      <td>0</td>\n",
       "      <td>11.0</td>\n",
       "      <td>8.0</td>\n",
       "      <td>16.0</td>\n",
       "      <td>12.0</td>\n",
       "      <td>3.0</td>\n",
       "      <td>False</td>\n",
       "    </tr>\n",
       "    <tr>\n",
       "      <th>101759</th>\n",
       "      <td>101759</td>\n",
       "      <td>27.0</td>\n",
       "      <td>5.0</td>\n",
       "      <td>4.0</td>\n",
       "      <td>1.0</td>\n",
       "      <td>107.0</td>\n",
       "      <td>559.93</td>\n",
       "      <td>0.06</td>\n",
       "      <td>18.00</td>\n",
       "      <td>34.17</td>\n",
       "      <td>...</td>\n",
       "      <td>23</td>\n",
       "      <td>0</td>\n",
       "      <td>2</td>\n",
       "      <td>0</td>\n",
       "      <td>18.0</td>\n",
       "      <td>20.0</td>\n",
       "      <td>67.0</td>\n",
       "      <td>40.0</td>\n",
       "      <td>9.0</td>\n",
       "      <td>False</td>\n",
       "    </tr>\n",
       "    <tr>\n",
       "      <th>101760</th>\n",
       "      <td>101760</td>\n",
       "      <td>26.0</td>\n",
       "      <td>1.0</td>\n",
       "      <td>1.0</td>\n",
       "      <td>1.0</td>\n",
       "      <td>83.0</td>\n",
       "      <td>360.17</td>\n",
       "      <td>0.04</td>\n",
       "      <td>22.75</td>\n",
       "      <td>12.56</td>\n",
       "      <td>...</td>\n",
       "      <td>20</td>\n",
       "      <td>0</td>\n",
       "      <td>4</td>\n",
       "      <td>0</td>\n",
       "      <td>10.0</td>\n",
       "      <td>8.0</td>\n",
       "      <td>51.0</td>\n",
       "      <td>28.0</td>\n",
       "      <td>1.0</td>\n",
       "      <td>False</td>\n",
       "    </tr>\n",
       "    <tr>\n",
       "      <th>101761</th>\n",
       "      <td>101761</td>\n",
       "      <td>10.0</td>\n",
       "      <td>2.0</td>\n",
       "      <td>1.0</td>\n",
       "      <td>2.0</td>\n",
       "      <td>43.0</td>\n",
       "      <td>191.76</td>\n",
       "      <td>0.15</td>\n",
       "      <td>6.46</td>\n",
       "      <td>29.53</td>\n",
       "      <td>...</td>\n",
       "      <td>7</td>\n",
       "      <td>0</td>\n",
       "      <td>1</td>\n",
       "      <td>0</td>\n",
       "      <td>11.0</td>\n",
       "      <td>14.0</td>\n",
       "      <td>24.0</td>\n",
       "      <td>19.0</td>\n",
       "      <td>3.0</td>\n",
       "      <td>False</td>\n",
       "    </tr>\n",
       "    <tr>\n",
       "      <th>101762</th>\n",
       "      <td>101762</td>\n",
       "      <td>136.0</td>\n",
       "      <td>18.0</td>\n",
       "      <td>18.0</td>\n",
       "      <td>1.0</td>\n",
       "      <td>296.0</td>\n",
       "      <td>1704.57</td>\n",
       "      <td>0.02</td>\n",
       "      <td>44.82</td>\n",
       "      <td>44.08</td>\n",
       "      <td>...</td>\n",
       "      <td>102</td>\n",
       "      <td>1</td>\n",
       "      <td>11</td>\n",
       "      <td>0</td>\n",
       "      <td>22.0</td>\n",
       "      <td>31.0</td>\n",
       "      <td>162.0</td>\n",
       "      <td>135.0</td>\n",
       "      <td>35.0</td>\n",
       "      <td>False</td>\n",
       "    </tr>\n",
       "  </tbody>\n",
       "</table>\n",
       "<p>101763 rows × 23 columns</p>\n",
       "</div>"
      ],
      "text/plain": [
       "            id    loc  v(g)  ev(g)  iv(g)      n        v     l      d      i  \\\n",
       "0            0   22.0   3.0    1.0    2.0   60.0   278.63  0.06  19.56  14.25   \n",
       "1            1   14.0   2.0    1.0    2.0   32.0   151.27  0.14   7.00  21.11   \n",
       "2            2   11.0   2.0    1.0    2.0   45.0   197.65  0.11   8.05  22.76   \n",
       "3            3    8.0   1.0    1.0    1.0   23.0    94.01  0.19   5.25  17.86   \n",
       "4            4   11.0   2.0    1.0    2.0   17.0    60.94  0.18   5.63  12.44   \n",
       "...        ...    ...   ...    ...    ...    ...      ...   ...    ...    ...   \n",
       "101758  101758   10.0   2.0    1.0    1.0   28.0   122.98  0.15   6.60  18.63   \n",
       "101759  101759   27.0   5.0    4.0    1.0  107.0   559.93  0.06  18.00  34.17   \n",
       "101760  101760   26.0   1.0    1.0    1.0   83.0   360.17  0.04  22.75  12.56   \n",
       "101761  101761   10.0   2.0    1.0    2.0   43.0   191.76  0.15   6.46  29.53   \n",
       "101762  101762  136.0  18.0   18.0    1.0  296.0  1704.57  0.02  44.82  44.08   \n",
       "\n",
       "        ...  lOCode  lOComment  lOBlank  locCodeAndComment  uniq_Op  \\\n",
       "0       ...      17          1        1                  0     16.0   \n",
       "1       ...      11          0        1                  0     11.0   \n",
       "2       ...       8          0        1                  0     12.0   \n",
       "3       ...       4          0        2                  0      8.0   \n",
       "4       ...       7          0        2                  0      7.0   \n",
       "...     ...     ...        ...      ...                ...      ...   \n",
       "101758  ...       7          0        1                  0     11.0   \n",
       "101759  ...      23          0        2                  0     18.0   \n",
       "101760  ...      20          0        4                  0     10.0   \n",
       "101761  ...       7          0        1                  0     11.0   \n",
       "101762  ...     102          1       11                  0     22.0   \n",
       "\n",
       "        uniq_Opnd  total_Op  total_Opnd  branchCount  defects  \n",
       "0             9.0      38.0        22.0          5.0    False  \n",
       "1            11.0      18.0        14.0          3.0    False  \n",
       "2            11.0      28.0        17.0          3.0    False  \n",
       "3             6.0      16.0         7.0          1.0     True  \n",
       "4             6.0      10.0        10.0          3.0    False  \n",
       "...           ...       ...         ...          ...      ...  \n",
       "101758        8.0      16.0        12.0          3.0    False  \n",
       "101759       20.0      67.0        40.0          9.0    False  \n",
       "101760        8.0      51.0        28.0          1.0    False  \n",
       "101761       14.0      24.0        19.0          3.0    False  \n",
       "101762       31.0     162.0       135.0         35.0    False  \n",
       "\n",
       "[101763 rows x 23 columns]"
      ]
     },
     "execution_count": 4,
     "metadata": {},
     "output_type": "execute_result"
    }
   ],
   "source": [
    "train_df"
   ]
  },
  {
   "cell_type": "code",
   "execution_count": 5,
   "id": "09c6312e",
   "metadata": {
    "execution": {
     "iopub.execute_input": "2023-10-21T06:01:13.278628Z",
     "iopub.status.busy": "2023-10-21T06:01:13.277852Z",
     "iopub.status.idle": "2023-10-21T06:01:13.445656Z",
     "shell.execute_reply": "2023-10-21T06:01:13.444473Z"
    },
    "papermill": {
     "duration": 0.188571,
     "end_time": "2023-10-21T06:01:13.448479",
     "exception": false,
     "start_time": "2023-10-21T06:01:13.259908",
     "status": "completed"
    },
    "tags": []
   },
   "outputs": [
    {
     "data": {
      "text/html": [
       "<div>\n",
       "<style scoped>\n",
       "    .dataframe tbody tr th:only-of-type {\n",
       "        vertical-align: middle;\n",
       "    }\n",
       "\n",
       "    .dataframe tbody tr th {\n",
       "        vertical-align: top;\n",
       "    }\n",
       "\n",
       "    .dataframe thead th {\n",
       "        text-align: right;\n",
       "    }\n",
       "</style>\n",
       "<table border=\"1\" class=\"dataframe\">\n",
       "  <thead>\n",
       "    <tr style=\"text-align: right;\">\n",
       "      <th></th>\n",
       "      <th>id</th>\n",
       "      <th>loc</th>\n",
       "      <th>v(g)</th>\n",
       "      <th>ev(g)</th>\n",
       "      <th>iv(g)</th>\n",
       "      <th>n</th>\n",
       "      <th>v</th>\n",
       "      <th>l</th>\n",
       "      <th>d</th>\n",
       "      <th>i</th>\n",
       "      <th>...</th>\n",
       "      <th>t</th>\n",
       "      <th>lOCode</th>\n",
       "      <th>lOComment</th>\n",
       "      <th>lOBlank</th>\n",
       "      <th>locCodeAndComment</th>\n",
       "      <th>uniq_Op</th>\n",
       "      <th>uniq_Opnd</th>\n",
       "      <th>total_Op</th>\n",
       "      <th>total_Opnd</th>\n",
       "      <th>branchCount</th>\n",
       "    </tr>\n",
       "  </thead>\n",
       "  <tbody>\n",
       "    <tr>\n",
       "      <th>count</th>\n",
       "      <td>101763.000000</td>\n",
       "      <td>101763.000000</td>\n",
       "      <td>101763.000000</td>\n",
       "      <td>101763.000000</td>\n",
       "      <td>101763.000000</td>\n",
       "      <td>101763.000000</td>\n",
       "      <td>101763.000000</td>\n",
       "      <td>101763.000000</td>\n",
       "      <td>101763.000000</td>\n",
       "      <td>101763.000000</td>\n",
       "      <td>...</td>\n",
       "      <td>101763.000000</td>\n",
       "      <td>101763.000000</td>\n",
       "      <td>101763.000000</td>\n",
       "      <td>101763.000000</td>\n",
       "      <td>101763.000000</td>\n",
       "      <td>101763.000000</td>\n",
       "      <td>101763.000000</td>\n",
       "      <td>101763.000000</td>\n",
       "      <td>101763.000000</td>\n",
       "      <td>101763.000000</td>\n",
       "    </tr>\n",
       "    <tr>\n",
       "      <th>mean</th>\n",
       "      <td>50881.000000</td>\n",
       "      <td>37.347160</td>\n",
       "      <td>5.492684</td>\n",
       "      <td>2.845022</td>\n",
       "      <td>3.498826</td>\n",
       "      <td>96.655995</td>\n",
       "      <td>538.280956</td>\n",
       "      <td>0.111634</td>\n",
       "      <td>13.681881</td>\n",
       "      <td>27.573007</td>\n",
       "      <td>...</td>\n",
       "      <td>1141.357982</td>\n",
       "      <td>22.802453</td>\n",
       "      <td>1.773945</td>\n",
       "      <td>3.979865</td>\n",
       "      <td>0.196604</td>\n",
       "      <td>11.896131</td>\n",
       "      <td>15.596671</td>\n",
       "      <td>57.628116</td>\n",
       "      <td>39.249698</td>\n",
       "      <td>9.839549</td>\n",
       "    </tr>\n",
       "    <tr>\n",
       "      <th>std</th>\n",
       "      <td>29376.592059</td>\n",
       "      <td>54.600401</td>\n",
       "      <td>7.900855</td>\n",
       "      <td>4.631262</td>\n",
       "      <td>5.534541</td>\n",
       "      <td>171.147191</td>\n",
       "      <td>1270.791601</td>\n",
       "      <td>0.100096</td>\n",
       "      <td>14.121306</td>\n",
       "      <td>22.856742</td>\n",
       "      <td>...</td>\n",
       "      <td>9862.795472</td>\n",
       "      <td>38.541010</td>\n",
       "      <td>5.902412</td>\n",
       "      <td>6.382358</td>\n",
       "      <td>0.998906</td>\n",
       "      <td>6.749549</td>\n",
       "      <td>18.064261</td>\n",
       "      <td>104.537660</td>\n",
       "      <td>71.692309</td>\n",
       "      <td>14.412769</td>\n",
       "    </tr>\n",
       "    <tr>\n",
       "      <th>min</th>\n",
       "      <td>0.000000</td>\n",
       "      <td>1.000000</td>\n",
       "      <td>1.000000</td>\n",
       "      <td>1.000000</td>\n",
       "      <td>1.000000</td>\n",
       "      <td>0.000000</td>\n",
       "      <td>0.000000</td>\n",
       "      <td>0.000000</td>\n",
       "      <td>0.000000</td>\n",
       "      <td>0.000000</td>\n",
       "      <td>...</td>\n",
       "      <td>0.000000</td>\n",
       "      <td>0.000000</td>\n",
       "      <td>0.000000</td>\n",
       "      <td>0.000000</td>\n",
       "      <td>0.000000</td>\n",
       "      <td>0.000000</td>\n",
       "      <td>0.000000</td>\n",
       "      <td>0.000000</td>\n",
       "      <td>0.000000</td>\n",
       "      <td>1.000000</td>\n",
       "    </tr>\n",
       "    <tr>\n",
       "      <th>25%</th>\n",
       "      <td>25440.500000</td>\n",
       "      <td>13.000000</td>\n",
       "      <td>2.000000</td>\n",
       "      <td>1.000000</td>\n",
       "      <td>1.000000</td>\n",
       "      <td>25.000000</td>\n",
       "      <td>97.670000</td>\n",
       "      <td>0.050000</td>\n",
       "      <td>5.600000</td>\n",
       "      <td>15.560000</td>\n",
       "      <td>...</td>\n",
       "      <td>31.380000</td>\n",
       "      <td>7.000000</td>\n",
       "      <td>0.000000</td>\n",
       "      <td>1.000000</td>\n",
       "      <td>0.000000</td>\n",
       "      <td>8.000000</td>\n",
       "      <td>7.000000</td>\n",
       "      <td>15.000000</td>\n",
       "      <td>10.000000</td>\n",
       "      <td>3.000000</td>\n",
       "    </tr>\n",
       "    <tr>\n",
       "      <th>50%</th>\n",
       "      <td>50881.000000</td>\n",
       "      <td>22.000000</td>\n",
       "      <td>3.000000</td>\n",
       "      <td>1.000000</td>\n",
       "      <td>2.000000</td>\n",
       "      <td>51.000000</td>\n",
       "      <td>232.790000</td>\n",
       "      <td>0.090000</td>\n",
       "      <td>9.820000</td>\n",
       "      <td>23.360000</td>\n",
       "      <td>...</td>\n",
       "      <td>125.400000</td>\n",
       "      <td>14.000000</td>\n",
       "      <td>0.000000</td>\n",
       "      <td>2.000000</td>\n",
       "      <td>0.000000</td>\n",
       "      <td>11.000000</td>\n",
       "      <td>12.000000</td>\n",
       "      <td>30.000000</td>\n",
       "      <td>20.000000</td>\n",
       "      <td>5.000000</td>\n",
       "    </tr>\n",
       "    <tr>\n",
       "      <th>75%</th>\n",
       "      <td>76321.500000</td>\n",
       "      <td>42.000000</td>\n",
       "      <td>6.000000</td>\n",
       "      <td>3.000000</td>\n",
       "      <td>4.000000</td>\n",
       "      <td>111.000000</td>\n",
       "      <td>560.250000</td>\n",
       "      <td>0.150000</td>\n",
       "      <td>18.000000</td>\n",
       "      <td>34.340000</td>\n",
       "      <td>...</td>\n",
       "      <td>565.920000</td>\n",
       "      <td>26.000000</td>\n",
       "      <td>1.000000</td>\n",
       "      <td>5.000000</td>\n",
       "      <td>0.000000</td>\n",
       "      <td>16.000000</td>\n",
       "      <td>20.000000</td>\n",
       "      <td>66.000000</td>\n",
       "      <td>45.000000</td>\n",
       "      <td>11.000000</td>\n",
       "    </tr>\n",
       "    <tr>\n",
       "      <th>max</th>\n",
       "      <td>101762.000000</td>\n",
       "      <td>3442.000000</td>\n",
       "      <td>404.000000</td>\n",
       "      <td>165.000000</td>\n",
       "      <td>402.000000</td>\n",
       "      <td>8441.000000</td>\n",
       "      <td>80843.080000</td>\n",
       "      <td>1.000000</td>\n",
       "      <td>418.200000</td>\n",
       "      <td>569.780000</td>\n",
       "      <td>...</td>\n",
       "      <td>935923.390000</td>\n",
       "      <td>2824.000000</td>\n",
       "      <td>344.000000</td>\n",
       "      <td>219.000000</td>\n",
       "      <td>43.000000</td>\n",
       "      <td>410.000000</td>\n",
       "      <td>1026.000000</td>\n",
       "      <td>5420.000000</td>\n",
       "      <td>3021.000000</td>\n",
       "      <td>503.000000</td>\n",
       "    </tr>\n",
       "  </tbody>\n",
       "</table>\n",
       "<p>8 rows × 22 columns</p>\n",
       "</div>"
      ],
      "text/plain": [
       "                  id            loc           v(g)          ev(g)  \\\n",
       "count  101763.000000  101763.000000  101763.000000  101763.000000   \n",
       "mean    50881.000000      37.347160       5.492684       2.845022   \n",
       "std     29376.592059      54.600401       7.900855       4.631262   \n",
       "min         0.000000       1.000000       1.000000       1.000000   \n",
       "25%     25440.500000      13.000000       2.000000       1.000000   \n",
       "50%     50881.000000      22.000000       3.000000       1.000000   \n",
       "75%     76321.500000      42.000000       6.000000       3.000000   \n",
       "max    101762.000000    3442.000000     404.000000     165.000000   \n",
       "\n",
       "               iv(g)              n              v              l  \\\n",
       "count  101763.000000  101763.000000  101763.000000  101763.000000   \n",
       "mean        3.498826      96.655995     538.280956       0.111634   \n",
       "std         5.534541     171.147191    1270.791601       0.100096   \n",
       "min         1.000000       0.000000       0.000000       0.000000   \n",
       "25%         1.000000      25.000000      97.670000       0.050000   \n",
       "50%         2.000000      51.000000     232.790000       0.090000   \n",
       "75%         4.000000     111.000000     560.250000       0.150000   \n",
       "max       402.000000    8441.000000   80843.080000       1.000000   \n",
       "\n",
       "                   d              i  ...              t         lOCode  \\\n",
       "count  101763.000000  101763.000000  ...  101763.000000  101763.000000   \n",
       "mean       13.681881      27.573007  ...    1141.357982      22.802453   \n",
       "std        14.121306      22.856742  ...    9862.795472      38.541010   \n",
       "min         0.000000       0.000000  ...       0.000000       0.000000   \n",
       "25%         5.600000      15.560000  ...      31.380000       7.000000   \n",
       "50%         9.820000      23.360000  ...     125.400000      14.000000   \n",
       "75%        18.000000      34.340000  ...     565.920000      26.000000   \n",
       "max       418.200000     569.780000  ...  935923.390000    2824.000000   \n",
       "\n",
       "           lOComment        lOBlank  locCodeAndComment        uniq_Op  \\\n",
       "count  101763.000000  101763.000000      101763.000000  101763.000000   \n",
       "mean        1.773945       3.979865           0.196604      11.896131   \n",
       "std         5.902412       6.382358           0.998906       6.749549   \n",
       "min         0.000000       0.000000           0.000000       0.000000   \n",
       "25%         0.000000       1.000000           0.000000       8.000000   \n",
       "50%         0.000000       2.000000           0.000000      11.000000   \n",
       "75%         1.000000       5.000000           0.000000      16.000000   \n",
       "max       344.000000     219.000000          43.000000     410.000000   \n",
       "\n",
       "           uniq_Opnd       total_Op     total_Opnd    branchCount  \n",
       "count  101763.000000  101763.000000  101763.000000  101763.000000  \n",
       "mean       15.596671      57.628116      39.249698       9.839549  \n",
       "std        18.064261     104.537660      71.692309      14.412769  \n",
       "min         0.000000       0.000000       0.000000       1.000000  \n",
       "25%         7.000000      15.000000      10.000000       3.000000  \n",
       "50%        12.000000      30.000000      20.000000       5.000000  \n",
       "75%        20.000000      66.000000      45.000000      11.000000  \n",
       "max      1026.000000    5420.000000    3021.000000     503.000000  \n",
       "\n",
       "[8 rows x 22 columns]"
      ]
     },
     "execution_count": 5,
     "metadata": {},
     "output_type": "execute_result"
    }
   ],
   "source": [
    "train_df.describe()"
   ]
  },
  {
   "cell_type": "code",
   "execution_count": 6,
   "id": "9e15efab",
   "metadata": {
    "execution": {
     "iopub.execute_input": "2023-10-21T06:01:13.483918Z",
     "iopub.status.busy": "2023-10-21T06:01:13.483505Z",
     "iopub.status.idle": "2023-10-21T06:01:13.615607Z",
     "shell.execute_reply": "2023-10-21T06:01:13.614429Z"
    },
    "papermill": {
     "duration": 0.153181,
     "end_time": "2023-10-21T06:01:13.618420",
     "exception": false,
     "start_time": "2023-10-21T06:01:13.465239",
     "status": "completed"
    },
    "tags": []
   },
   "outputs": [
    {
     "data": {
      "text/html": [
       "<div>\n",
       "<style scoped>\n",
       "    .dataframe tbody tr th:only-of-type {\n",
       "        vertical-align: middle;\n",
       "    }\n",
       "\n",
       "    .dataframe tbody tr th {\n",
       "        vertical-align: top;\n",
       "    }\n",
       "\n",
       "    .dataframe thead th {\n",
       "        text-align: right;\n",
       "    }\n",
       "</style>\n",
       "<table border=\"1\" class=\"dataframe\">\n",
       "  <thead>\n",
       "    <tr style=\"text-align: right;\">\n",
       "      <th></th>\n",
       "      <th>id</th>\n",
       "      <th>loc</th>\n",
       "      <th>v(g)</th>\n",
       "      <th>ev(g)</th>\n",
       "      <th>iv(g)</th>\n",
       "      <th>n</th>\n",
       "      <th>v</th>\n",
       "      <th>l</th>\n",
       "      <th>d</th>\n",
       "      <th>i</th>\n",
       "      <th>...</th>\n",
       "      <th>t</th>\n",
       "      <th>lOCode</th>\n",
       "      <th>lOComment</th>\n",
       "      <th>lOBlank</th>\n",
       "      <th>locCodeAndComment</th>\n",
       "      <th>uniq_Op</th>\n",
       "      <th>uniq_Opnd</th>\n",
       "      <th>total_Op</th>\n",
       "      <th>total_Opnd</th>\n",
       "      <th>branchCount</th>\n",
       "    </tr>\n",
       "  </thead>\n",
       "  <tbody>\n",
       "    <tr>\n",
       "      <th>count</th>\n",
       "      <td>67842.000000</td>\n",
       "      <td>67842.000000</td>\n",
       "      <td>67842.000000</td>\n",
       "      <td>67842.000000</td>\n",
       "      <td>67842.000000</td>\n",
       "      <td>67842.000000</td>\n",
       "      <td>67842.000000</td>\n",
       "      <td>67842.000000</td>\n",
       "      <td>67842.000000</td>\n",
       "      <td>67842.000000</td>\n",
       "      <td>...</td>\n",
       "      <td>67842.000000</td>\n",
       "      <td>67842.000000</td>\n",
       "      <td>67842.000000</td>\n",
       "      <td>67842.000000</td>\n",
       "      <td>67842.000000</td>\n",
       "      <td>67842.000000</td>\n",
       "      <td>67842.000000</td>\n",
       "      <td>67842.000000</td>\n",
       "      <td>67842.000000</td>\n",
       "      <td>67842.000000</td>\n",
       "    </tr>\n",
       "    <tr>\n",
       "      <th>mean</th>\n",
       "      <td>135683.500000</td>\n",
       "      <td>37.855945</td>\n",
       "      <td>5.559462</td>\n",
       "      <td>2.857699</td>\n",
       "      <td>3.535715</td>\n",
       "      <td>98.222178</td>\n",
       "      <td>548.422497</td>\n",
       "      <td>0.111521</td>\n",
       "      <td>13.762472</td>\n",
       "      <td>27.635377</td>\n",
       "      <td>...</td>\n",
       "      <td>1218.682009</td>\n",
       "      <td>23.131924</td>\n",
       "      <td>1.832493</td>\n",
       "      <td>4.020739</td>\n",
       "      <td>0.200834</td>\n",
       "      <td>11.909776</td>\n",
       "      <td>15.678370</td>\n",
       "      <td>58.325212</td>\n",
       "      <td>39.845258</td>\n",
       "      <td>9.985923</td>\n",
       "    </tr>\n",
       "    <tr>\n",
       "      <th>std</th>\n",
       "      <td>19584.442818</td>\n",
       "      <td>55.793918</td>\n",
       "      <td>8.237389</td>\n",
       "      <td>4.666370</td>\n",
       "      <td>5.339085</td>\n",
       "      <td>179.123492</td>\n",
       "      <td>1318.416828</td>\n",
       "      <td>0.100840</td>\n",
       "      <td>14.487425</td>\n",
       "      <td>23.420521</td>\n",
       "      <td>...</td>\n",
       "      <td>10739.081373</td>\n",
       "      <td>39.606659</td>\n",
       "      <td>6.229052</td>\n",
       "      <td>7.136069</td>\n",
       "      <td>1.044581</td>\n",
       "      <td>6.974254</td>\n",
       "      <td>17.979368</td>\n",
       "      <td>105.491447</td>\n",
       "      <td>72.756320</td>\n",
       "      <td>15.342975</td>\n",
       "    </tr>\n",
       "    <tr>\n",
       "      <th>min</th>\n",
       "      <td>101763.000000</td>\n",
       "      <td>1.000000</td>\n",
       "      <td>1.000000</td>\n",
       "      <td>1.000000</td>\n",
       "      <td>1.000000</td>\n",
       "      <td>0.000000</td>\n",
       "      <td>0.000000</td>\n",
       "      <td>0.000000</td>\n",
       "      <td>0.000000</td>\n",
       "      <td>0.000000</td>\n",
       "      <td>...</td>\n",
       "      <td>0.000000</td>\n",
       "      <td>0.000000</td>\n",
       "      <td>0.000000</td>\n",
       "      <td>0.000000</td>\n",
       "      <td>0.000000</td>\n",
       "      <td>0.000000</td>\n",
       "      <td>0.000000</td>\n",
       "      <td>0.000000</td>\n",
       "      <td>0.000000</td>\n",
       "      <td>1.000000</td>\n",
       "    </tr>\n",
       "    <tr>\n",
       "      <th>25%</th>\n",
       "      <td>118723.250000</td>\n",
       "      <td>13.000000</td>\n",
       "      <td>2.000000</td>\n",
       "      <td>1.000000</td>\n",
       "      <td>1.000000</td>\n",
       "      <td>25.000000</td>\n",
       "      <td>96.210000</td>\n",
       "      <td>0.040000</td>\n",
       "      <td>5.500000</td>\n",
       "      <td>15.540000</td>\n",
       "      <td>...</td>\n",
       "      <td>31.270000</td>\n",
       "      <td>7.000000</td>\n",
       "      <td>0.000000</td>\n",
       "      <td>1.000000</td>\n",
       "      <td>0.000000</td>\n",
       "      <td>8.000000</td>\n",
       "      <td>7.000000</td>\n",
       "      <td>15.000000</td>\n",
       "      <td>10.000000</td>\n",
       "      <td>3.000000</td>\n",
       "    </tr>\n",
       "    <tr>\n",
       "      <th>50%</th>\n",
       "      <td>135683.500000</td>\n",
       "      <td>22.000000</td>\n",
       "      <td>3.000000</td>\n",
       "      <td>1.000000</td>\n",
       "      <td>2.000000</td>\n",
       "      <td>51.000000</td>\n",
       "      <td>232.790000</td>\n",
       "      <td>0.090000</td>\n",
       "      <td>9.820000</td>\n",
       "      <td>23.230000</td>\n",
       "      <td>...</td>\n",
       "      <td>126.490000</td>\n",
       "      <td>14.000000</td>\n",
       "      <td>0.000000</td>\n",
       "      <td>2.000000</td>\n",
       "      <td>0.000000</td>\n",
       "      <td>12.000000</td>\n",
       "      <td>12.000000</td>\n",
       "      <td>30.000000</td>\n",
       "      <td>20.000000</td>\n",
       "      <td>5.000000</td>\n",
       "    </tr>\n",
       "    <tr>\n",
       "      <th>75%</th>\n",
       "      <td>152643.750000</td>\n",
       "      <td>42.000000</td>\n",
       "      <td>6.000000</td>\n",
       "      <td>3.000000</td>\n",
       "      <td>4.000000</td>\n",
       "      <td>111.000000</td>\n",
       "      <td>560.250000</td>\n",
       "      <td>0.140000</td>\n",
       "      <td>18.000000</td>\n",
       "      <td>34.270000</td>\n",
       "      <td>...</td>\n",
       "      <td>561.802500</td>\n",
       "      <td>26.000000</td>\n",
       "      <td>1.000000</td>\n",
       "      <td>5.000000</td>\n",
       "      <td>0.000000</td>\n",
       "      <td>16.000000</td>\n",
       "      <td>20.000000</td>\n",
       "      <td>66.000000</td>\n",
       "      <td>44.000000</td>\n",
       "      <td>11.000000</td>\n",
       "    </tr>\n",
       "    <tr>\n",
       "      <th>max</th>\n",
       "      <td>169604.000000</td>\n",
       "      <td>1891.000000</td>\n",
       "      <td>470.000000</td>\n",
       "      <td>165.000000</td>\n",
       "      <td>402.000000</td>\n",
       "      <td>8441.000000</td>\n",
       "      <td>80843.080000</td>\n",
       "      <td>1.000000</td>\n",
       "      <td>418.200000</td>\n",
       "      <td>569.780000</td>\n",
       "      <td>...</td>\n",
       "      <td>935923.390000</td>\n",
       "      <td>1599.000000</td>\n",
       "      <td>344.000000</td>\n",
       "      <td>447.000000</td>\n",
       "      <td>42.000000</td>\n",
       "      <td>411.000000</td>\n",
       "      <td>1026.000000</td>\n",
       "      <td>3368.000000</td>\n",
       "      <td>2301.000000</td>\n",
       "      <td>826.000000</td>\n",
       "    </tr>\n",
       "  </tbody>\n",
       "</table>\n",
       "<p>8 rows × 22 columns</p>\n",
       "</div>"
      ],
      "text/plain": [
       "                  id           loc          v(g)         ev(g)         iv(g)  \\\n",
       "count   67842.000000  67842.000000  67842.000000  67842.000000  67842.000000   \n",
       "mean   135683.500000     37.855945      5.559462      2.857699      3.535715   \n",
       "std     19584.442818     55.793918      8.237389      4.666370      5.339085   \n",
       "min    101763.000000      1.000000      1.000000      1.000000      1.000000   \n",
       "25%    118723.250000     13.000000      2.000000      1.000000      1.000000   \n",
       "50%    135683.500000     22.000000      3.000000      1.000000      2.000000   \n",
       "75%    152643.750000     42.000000      6.000000      3.000000      4.000000   \n",
       "max    169604.000000   1891.000000    470.000000    165.000000    402.000000   \n",
       "\n",
       "                  n             v             l             d             i  \\\n",
       "count  67842.000000  67842.000000  67842.000000  67842.000000  67842.000000   \n",
       "mean      98.222178    548.422497      0.111521     13.762472     27.635377   \n",
       "std      179.123492   1318.416828      0.100840     14.487425     23.420521   \n",
       "min        0.000000      0.000000      0.000000      0.000000      0.000000   \n",
       "25%       25.000000     96.210000      0.040000      5.500000     15.540000   \n",
       "50%       51.000000    232.790000      0.090000      9.820000     23.230000   \n",
       "75%      111.000000    560.250000      0.140000     18.000000     34.270000   \n",
       "max     8441.000000  80843.080000      1.000000    418.200000    569.780000   \n",
       "\n",
       "       ...              t        lOCode     lOComment       lOBlank  \\\n",
       "count  ...   67842.000000  67842.000000  67842.000000  67842.000000   \n",
       "mean   ...    1218.682009     23.131924      1.832493      4.020739   \n",
       "std    ...   10739.081373     39.606659      6.229052      7.136069   \n",
       "min    ...       0.000000      0.000000      0.000000      0.000000   \n",
       "25%    ...      31.270000      7.000000      0.000000      1.000000   \n",
       "50%    ...     126.490000     14.000000      0.000000      2.000000   \n",
       "75%    ...     561.802500     26.000000      1.000000      5.000000   \n",
       "max    ...  935923.390000   1599.000000    344.000000    447.000000   \n",
       "\n",
       "       locCodeAndComment       uniq_Op     uniq_Opnd      total_Op  \\\n",
       "count       67842.000000  67842.000000  67842.000000  67842.000000   \n",
       "mean            0.200834     11.909776     15.678370     58.325212   \n",
       "std             1.044581      6.974254     17.979368    105.491447   \n",
       "min             0.000000      0.000000      0.000000      0.000000   \n",
       "25%             0.000000      8.000000      7.000000     15.000000   \n",
       "50%             0.000000     12.000000     12.000000     30.000000   \n",
       "75%             0.000000     16.000000     20.000000     66.000000   \n",
       "max            42.000000    411.000000   1026.000000   3368.000000   \n",
       "\n",
       "         total_Opnd   branchCount  \n",
       "count  67842.000000  67842.000000  \n",
       "mean      39.845258      9.985923  \n",
       "std       72.756320     15.342975  \n",
       "min        0.000000      1.000000  \n",
       "25%       10.000000      3.000000  \n",
       "50%       20.000000      5.000000  \n",
       "75%       44.000000     11.000000  \n",
       "max     2301.000000    826.000000  \n",
       "\n",
       "[8 rows x 22 columns]"
      ]
     },
     "execution_count": 6,
     "metadata": {},
     "output_type": "execute_result"
    }
   ],
   "source": [
    "test_df.describe()"
   ]
  },
  {
   "cell_type": "code",
   "execution_count": 7,
   "id": "ac809287",
   "metadata": {
    "execution": {
     "iopub.execute_input": "2023-10-21T06:01:13.656152Z",
     "iopub.status.busy": "2023-10-21T06:01:13.655756Z",
     "iopub.status.idle": "2023-10-21T06:01:13.663915Z",
     "shell.execute_reply": "2023-10-21T06:01:13.663100Z"
    },
    "papermill": {
     "duration": 0.029783,
     "end_time": "2023-10-21T06:01:13.666127",
     "exception": false,
     "start_time": "2023-10-21T06:01:13.636344",
     "status": "completed"
    },
    "tags": []
   },
   "outputs": [
    {
     "data": {
      "text/plain": [
       "id                     int64\n",
       "loc                  float64\n",
       "v(g)                 float64\n",
       "ev(g)                float64\n",
       "iv(g)                float64\n",
       "n                    float64\n",
       "v                    float64\n",
       "l                    float64\n",
       "d                    float64\n",
       "i                    float64\n",
       "e                    float64\n",
       "b                    float64\n",
       "t                    float64\n",
       "lOCode                 int64\n",
       "lOComment              int64\n",
       "lOBlank                int64\n",
       "locCodeAndComment      int64\n",
       "uniq_Op              float64\n",
       "uniq_Opnd            float64\n",
       "total_Op             float64\n",
       "total_Opnd           float64\n",
       "branchCount          float64\n",
       "defects                 bool\n",
       "dtype: object"
      ]
     },
     "execution_count": 7,
     "metadata": {},
     "output_type": "execute_result"
    }
   ],
   "source": [
    "train_df.dtypes"
   ]
  },
  {
   "cell_type": "code",
   "execution_count": 8,
   "id": "023568dc",
   "metadata": {
    "execution": {
     "iopub.execute_input": "2023-10-21T06:01:13.703414Z",
     "iopub.status.busy": "2023-10-21T06:01:13.702955Z",
     "iopub.status.idle": "2023-10-21T06:01:13.712023Z",
     "shell.execute_reply": "2023-10-21T06:01:13.711022Z"
    },
    "papermill": {
     "duration": 0.02993,
     "end_time": "2023-10-21T06:01:13.714146",
     "exception": false,
     "start_time": "2023-10-21T06:01:13.684216",
     "status": "completed"
    },
    "tags": []
   },
   "outputs": [
    {
     "data": {
      "text/plain": [
       "id                     int64\n",
       "loc                  float64\n",
       "v(g)                 float64\n",
       "ev(g)                float64\n",
       "iv(g)                float64\n",
       "n                    float64\n",
       "v                    float64\n",
       "l                    float64\n",
       "d                    float64\n",
       "i                    float64\n",
       "e                    float64\n",
       "b                    float64\n",
       "t                    float64\n",
       "lOCode                 int64\n",
       "lOComment              int64\n",
       "lOBlank                int64\n",
       "locCodeAndComment      int64\n",
       "uniq_Op              float64\n",
       "uniq_Opnd            float64\n",
       "total_Op             float64\n",
       "total_Opnd           float64\n",
       "branchCount          float64\n",
       "dtype: object"
      ]
     },
     "execution_count": 8,
     "metadata": {},
     "output_type": "execute_result"
    }
   ],
   "source": [
    "test_df.dtypes"
   ]
  },
  {
   "cell_type": "code",
   "execution_count": 9,
   "id": "7ed8aab6",
   "metadata": {
    "execution": {
     "iopub.execute_input": "2023-10-21T06:01:13.751930Z",
     "iopub.status.busy": "2023-10-21T06:01:13.751535Z",
     "iopub.status.idle": "2023-10-21T06:01:13.764502Z",
     "shell.execute_reply": "2023-10-21T06:01:13.763567Z"
    },
    "papermill": {
     "duration": 0.034718,
     "end_time": "2023-10-21T06:01:13.766557",
     "exception": false,
     "start_time": "2023-10-21T06:01:13.731839",
     "status": "completed"
    },
    "tags": []
   },
   "outputs": [],
   "source": [
    "X = train_df.drop(['id','defects'],axis = 1)\n",
    "y = train_df['defects']"
   ]
  },
  {
   "cell_type": "code",
   "execution_count": 10,
   "id": "e3921d6f",
   "metadata": {
    "execution": {
     "iopub.execute_input": "2023-10-21T06:01:13.803650Z",
     "iopub.status.busy": "2023-10-21T06:01:13.803206Z",
     "iopub.status.idle": "2023-10-21T06:01:14.674758Z",
     "shell.execute_reply": "2023-10-21T06:01:14.673473Z"
    },
    "papermill": {
     "duration": 0.893114,
     "end_time": "2023-10-21T06:01:14.677407",
     "exception": false,
     "start_time": "2023-10-21T06:01:13.784293",
     "status": "completed"
    },
    "tags": []
   },
   "outputs": [
    {
     "data": {
      "text/plain": [
       "<Axes: xlabel='defects', ylabel='Density'>"
      ]
     },
     "execution_count": 10,
     "metadata": {},
     "output_type": "execute_result"
    },
    {
     "data": {
      "image/png": "[encoded data removed]",
      "text/plain": [
       "<Figure size 640x480 with 1 Axes>"
      ]
     },
     "metadata": {},
     "output_type": "display_data"
    }
   ],
   "source": [
    "sns.distplot(y)"
   ]
  },
  {
   "cell_type": "code",
   "execution_count": 11,
   "id": "96ec0902",
   "metadata": {
    "execution": {
     "iopub.execute_input": "2023-10-21T06:01:14.776806Z",
     "iopub.status.busy": "2023-10-21T06:01:14.776412Z",
     "iopub.status.idle": "2023-10-21T06:01:15.054987Z",
     "shell.execute_reply": "2023-10-21T06:01:15.053846Z"
    },
    "papermill": {
     "duration": 0.30132,
     "end_time": "2023-10-21T06:01:15.057741",
     "exception": false,
     "start_time": "2023-10-21T06:01:14.756421",
     "status": "completed"
    },
    "tags": []
   },
   "outputs": [
    {
     "data": {
      "image/png": "[encoded data removed]",
      "text/plain": [
       "<Figure size 640x480 with 1 Axes>"
      ]
     },
     "metadata": {},
     "output_type": "display_data"
    }
   ],
   "source": [
    "# Define a custom color palette for the three categories\n",
    "custom_palette = [\"darkblue\", \"darkorange\"]\n",
    "\n",
    "## Create count plot of the distribution of defects\n",
    "sns.countplot(data=train_df, x='defects', palette=custom_palette)\n",
    "plt.ylabel('Frequency')\n",
    "plt.xlabel('Defects')\n",
    "plt.title('Distribution of Defects')\n",
    "plt.show()"
   ]
  },
  {
   "cell_type": "code",
   "execution_count": 12,
   "id": "4994f906",
   "metadata": {
    "execution": {
     "iopub.execute_input": "2023-10-21T06:01:15.098138Z",
     "iopub.status.busy": "2023-10-21T06:01:15.097335Z",
     "iopub.status.idle": "2023-10-21T06:01:16.679361Z",
     "shell.execute_reply": "2023-10-21T06:01:16.678504Z"
    },
    "papermill": {
     "duration": 1.606264,
     "end_time": "2023-10-21T06:01:16.682958",
     "exception": false,
     "start_time": "2023-10-21T06:01:15.076694",
     "status": "completed"
    },
    "tags": []
   },
   "outputs": [
    {
     "data": {
      "image/png": "[encoded data removed]",
      "text/plain": [
       "<Figure size 1800x1300 with 2 Axes>"
      ]
     },
     "metadata": {},
     "output_type": "display_data"
    }
   ],
   "source": [
    "## create heat map among input features\n",
    "corr_mat = train_df.drop(columns=['id', 'defects'], axis=1).corr()\n",
    "\n",
    "data_mask = np.triu(np.ones_like(corr_mat, dtype=bool))\n",
    "cmap = sns.color_palette(\"coolwarm\") \n",
    "f, ax = plt.subplots(figsize=(18, 13))\n",
    "sns.heatmap(corr_mat, annot=True, cmap=cmap, fmt='.2f', center=0,\n",
    "            annot_kws={'size': 14}, mask=data_mask).set_title('Correlations Among Input Features');\n"
   ]
  },
  {
   "cell_type": "markdown",
   "id": "b9af26c8",
   "metadata": {
    "papermill": {
     "duration": 0.021424,
     "end_time": "2023-10-21T06:01:16.726390",
     "exception": false,
     "start_time": "2023-10-21T06:01:16.704966",
     "status": "completed"
    },
    "tags": []
   },
   "source": [
    "**From the above plot you can see:**\n",
    "* The data reveals a robust and positive 97% correlation between the variables branchCount and v(g).\n",
    "\n",
    "* There is a highly significant 96% positive correlation between total_Opnd and total_Op, indicating a strong relationship between these two features.\n",
    "\n",
    "* Additionally, a substantial 96% positive correlation is observed between total_Op and the variable n, suggesting a close association between these variables.\n",
    "\n",
    "* Notably, the feature \"l\" exhibits a unique and negative correlation with the other features, making it an interesting outlier in the dataset."
   ]
  },
  {
   "cell_type": "code",
   "execution_count": 13,
   "id": "4bb8eb19",
   "metadata": {
    "execution": {
     "iopub.execute_input": "2023-10-21T06:01:16.772481Z",
     "iopub.status.busy": "2023-10-21T06:01:16.772069Z",
     "iopub.status.idle": "2023-10-21T06:01:16.788693Z",
     "shell.execute_reply": "2023-10-21T06:01:16.787333Z"
    },
    "papermill": {
     "duration": 0.042543,
     "end_time": "2023-10-21T06:01:16.790935",
     "exception": false,
     "start_time": "2023-10-21T06:01:16.748392",
     "status": "completed"
    },
    "tags": []
   },
   "outputs": [],
   "source": [
    "test_df = test_df.drop(['id'],axis = 1)\n",
    "train_df = train_df.drop(['id'],axis = 1)"
   ]
  },
  {
   "cell_type": "markdown",
   "id": "620893c6",
   "metadata": {
    "papermill": {
     "duration": 0.021498,
     "end_time": "2023-10-21T06:01:16.834335",
     "exception": false,
     "start_time": "2023-10-21T06:01:16.812837",
     "status": "completed"
    },
    "tags": []
   },
   "source": [
    "# Feature Selection"
   ]
  },
  {
   "cell_type": "markdown",
   "id": "8dff7918",
   "metadata": {
    "papermill": {
     "duration": 0.021751,
     "end_time": "2023-10-21T06:01:16.878431",
     "exception": false,
     "start_time": "2023-10-21T06:01:16.856680",
     "status": "completed"
    },
    "tags": []
   },
   "source": [
    "# Splitting the Train_df in train test"
   ]
  },
  {
   "cell_type": "code",
   "execution_count": 14,
   "id": "8c12876a",
   "metadata": {
    "execution": {
     "iopub.execute_input": "2023-10-21T06:01:16.927990Z",
     "iopub.status.busy": "2023-10-21T06:01:16.925787Z",
     "iopub.status.idle": "2023-10-21T06:01:16.960030Z",
     "shell.execute_reply": "2023-10-21T06:01:16.959060Z"
    },
    "papermill": {
     "duration": 0.061485,
     "end_time": "2023-10-21T06:01:16.962662",
     "exception": false,
     "start_time": "2023-10-21T06:01:16.901177",
     "status": "completed"
    },
    "tags": []
   },
   "outputs": [],
   "source": [
    "X_train,X_test,y_train, y_test = train_test_split(X,y, test_size=0.20, random_state=1)"
   ]
  },
  {
   "cell_type": "markdown",
   "id": "ff02ff75",
   "metadata": {
    "papermill": {
     "duration": 0.021812,
     "end_time": "2023-10-21T06:01:17.010238",
     "exception": false,
     "start_time": "2023-10-21T06:01:16.988426",
     "status": "completed"
    },
    "tags": []
   },
   "source": [
    "# Scaling the Data"
   ]
  },
  {
   "cell_type": "code",
   "execution_count": 15,
   "id": "f444584f",
   "metadata": {
    "execution": {
     "iopub.execute_input": "2023-10-21T06:01:17.055653Z",
     "iopub.status.busy": "2023-10-21T06:01:17.055255Z",
     "iopub.status.idle": "2023-10-21T06:01:17.060144Z",
     "shell.execute_reply": "2023-10-21T06:01:17.059045Z"
    },
    "papermill": {
     "duration": 0.030593,
     "end_time": "2023-10-21T06:01:17.062584",
     "exception": false,
     "start_time": "2023-10-21T06:01:17.031991",
     "status": "completed"
    },
    "tags": []
   },
   "outputs": [],
   "source": [
    "scaler = StandardScaler()"
   ]
  },
  {
   "cell_type": "code",
   "execution_count": 16,
   "id": "6ec9083d",
   "metadata": {
    "execution": {
     "iopub.execute_input": "2023-10-21T06:01:17.109018Z",
     "iopub.status.busy": "2023-10-21T06:01:17.107743Z",
     "iopub.status.idle": "2023-10-21T06:01:17.149873Z",
     "shell.execute_reply": "2023-10-21T06:01:17.148584Z"
    },
    "papermill": {
     "duration": 0.068139,
     "end_time": "2023-10-21T06:01:17.152822",
     "exception": false,
     "start_time": "2023-10-21T06:01:17.084683",
     "status": "completed"
    },
    "tags": []
   },
   "outputs": [],
   "source": [
    "X_train_scaled = scaler.fit_transform(X_train)"
   ]
  },
  {
   "cell_type": "code",
   "execution_count": 17,
   "id": "c9a7a7bf",
   "metadata": {
    "execution": {
     "iopub.execute_input": "2023-10-21T06:01:17.197975Z",
     "iopub.status.busy": "2023-10-21T06:01:17.197586Z",
     "iopub.status.idle": "2023-10-21T06:01:17.203015Z",
     "shell.execute_reply": "2023-10-21T06:01:17.201801Z"
    },
    "papermill": {
     "duration": 0.030995,
     "end_time": "2023-10-21T06:01:17.205580",
     "exception": false,
     "start_time": "2023-10-21T06:01:17.174585",
     "status": "completed"
    },
    "tags": []
   },
   "outputs": [],
   "source": [
    "X_train_scaled = pd.DataFrame(X_train_scaled , columns=scaler.get_feature_names_out())"
   ]
  },
  {
   "cell_type": "code",
   "execution_count": 18,
   "id": "25ef4835",
   "metadata": {
    "execution": {
     "iopub.execute_input": "2023-10-21T06:01:17.250646Z",
     "iopub.status.busy": "2023-10-21T06:01:17.250200Z",
     "iopub.status.idle": "2023-10-21T06:01:17.259712Z",
     "shell.execute_reply": "2023-10-21T06:01:17.258799Z"
    },
    "papermill": {
     "duration": 0.035358,
     "end_time": "2023-10-21T06:01:17.262617",
     "exception": false,
     "start_time": "2023-10-21T06:01:17.227259",
     "status": "completed"
    },
    "tags": []
   },
   "outputs": [],
   "source": [
    "X_test_scaled = scaler.transform(X_test)"
   ]
  },
  {
   "cell_type": "code",
   "execution_count": 19,
   "id": "5476b04a",
   "metadata": {
    "execution": {
     "iopub.execute_input": "2023-10-21T06:01:17.308765Z",
     "iopub.status.busy": "2023-10-21T06:01:17.308374Z",
     "iopub.status.idle": "2023-10-21T06:01:17.313646Z",
     "shell.execute_reply": "2023-10-21T06:01:17.312474Z"
    },
    "papermill": {
     "duration": 0.031584,
     "end_time": "2023-10-21T06:01:17.316160",
     "exception": false,
     "start_time": "2023-10-21T06:01:17.284576",
     "status": "completed"
    },
    "tags": []
   },
   "outputs": [],
   "source": [
    "X_test_scaled = pd.DataFrame(X_test_scaled , columns=scaler.get_feature_names_out())"
   ]
  },
  {
   "cell_type": "code",
   "execution_count": 20,
   "id": "b47bbb45",
   "metadata": {
    "execution": {
     "iopub.execute_input": "2023-10-21T06:01:17.362141Z",
     "iopub.status.busy": "2023-10-21T06:01:17.361749Z",
     "iopub.status.idle": "2023-10-21T06:01:17.379036Z",
     "shell.execute_reply": "2023-10-21T06:01:17.377872Z"
    },
    "papermill": {
     "duration": 0.04381,
     "end_time": "2023-10-21T06:01:17.381872",
     "exception": false,
     "start_time": "2023-10-21T06:01:17.338062",
     "status": "completed"
    },
    "tags": []
   },
   "outputs": [],
   "source": [
    "test_df_scaled = scaler.transform(test_df)"
   ]
  },
  {
   "cell_type": "code",
   "execution_count": 21,
   "id": "d776f965",
   "metadata": {
    "execution": {
     "iopub.execute_input": "2023-10-21T06:01:17.428240Z",
     "iopub.status.busy": "2023-10-21T06:01:17.427862Z",
     "iopub.status.idle": "2023-10-21T06:01:17.432979Z",
     "shell.execute_reply": "2023-10-21T06:01:17.431940Z"
    },
    "papermill": {
     "duration": 0.031336,
     "end_time": "2023-10-21T06:01:17.435444",
     "exception": false,
     "start_time": "2023-10-21T06:01:17.404108",
     "status": "completed"
    },
    "tags": []
   },
   "outputs": [],
   "source": [
    "test_df_scaled = pd.DataFrame(test_df_scaled, columns=scaler.get_feature_names_out())"
   ]
  },
  {
   "cell_type": "code",
   "execution_count": 22,
   "id": "a3067bce",
   "metadata": {
    "execution": {
     "iopub.execute_input": "2023-10-21T06:01:17.482587Z",
     "iopub.status.busy": "2023-10-21T06:01:17.482131Z",
     "iopub.status.idle": "2023-10-21T06:01:17.519908Z",
     "shell.execute_reply": "2023-10-21T06:01:17.518720Z"
    },
    "papermill": {
     "duration": 0.064722,
     "end_time": "2023-10-21T06:01:17.522541",
     "exception": false,
     "start_time": "2023-10-21T06:01:17.457819",
     "status": "completed"
    },
    "tags": []
   },
   "outputs": [
    {
     "data": {
      "text/html": [
       "<div>\n",
       "<style scoped>\n",
       "    .dataframe tbody tr th:only-of-type {\n",
       "        vertical-align: middle;\n",
       "    }\n",
       "\n",
       "    .dataframe tbody tr th {\n",
       "        vertical-align: top;\n",
       "    }\n",
       "\n",
       "    .dataframe thead th {\n",
       "        text-align: right;\n",
       "    }\n",
       "</style>\n",
       "<table border=\"1\" class=\"dataframe\">\n",
       "  <thead>\n",
       "    <tr style=\"text-align: right;\">\n",
       "      <th></th>\n",
       "      <th>loc</th>\n",
       "      <th>v(g)</th>\n",
       "      <th>ev(g)</th>\n",
       "      <th>iv(g)</th>\n",
       "      <th>n</th>\n",
       "      <th>v</th>\n",
       "      <th>l</th>\n",
       "      <th>d</th>\n",
       "      <th>i</th>\n",
       "      <th>e</th>\n",
       "      <th>...</th>\n",
       "      <th>t</th>\n",
       "      <th>lOCode</th>\n",
       "      <th>lOComment</th>\n",
       "      <th>lOBlank</th>\n",
       "      <th>locCodeAndComment</th>\n",
       "      <th>uniq_Op</th>\n",
       "      <th>uniq_Opnd</th>\n",
       "      <th>total_Op</th>\n",
       "      <th>total_Opnd</th>\n",
       "      <th>branchCount</th>\n",
       "    </tr>\n",
       "  </thead>\n",
       "  <tbody>\n",
       "    <tr>\n",
       "      <th>0</th>\n",
       "      <td>-0.078337</td>\n",
       "      <td>-0.061651</td>\n",
       "      <td>-0.397864</td>\n",
       "      <td>0.098180</td>\n",
       "      <td>0.276942</td>\n",
       "      <td>0.224801</td>\n",
       "      <td>-0.715994</td>\n",
       "      <td>0.941120</td>\n",
       "      <td>0.108469</td>\n",
       "      <td>0.011415</td>\n",
       "      <td>...</td>\n",
       "      <td>0.015741</td>\n",
       "      <td>0.188165</td>\n",
       "      <td>-0.297018</td>\n",
       "      <td>-0.152276</td>\n",
       "      <td>-0.197203</td>\n",
       "      <td>1.366067</td>\n",
       "      <td>0.415407</td>\n",
       "      <td>0.282100</td>\n",
       "      <td>0.248909</td>\n",
       "      <td>-0.056915</td>\n",
       "    </tr>\n",
       "    <tr>\n",
       "      <th>1</th>\n",
       "      <td>-0.188566</td>\n",
       "      <td>0.327893</td>\n",
       "      <td>1.111873</td>\n",
       "      <td>-0.281050</td>\n",
       "      <td>0.166177</td>\n",
       "      <td>0.085093</td>\n",
       "      <td>-0.715994</td>\n",
       "      <td>0.648009</td>\n",
       "      <td>-0.015109</td>\n",
       "      <td>-0.033599</td>\n",
       "      <td>...</td>\n",
       "      <td>-0.034335</td>\n",
       "      <td>0.006298</td>\n",
       "      <td>-0.297018</td>\n",
       "      <td>-0.308024</td>\n",
       "      <td>-0.197203</td>\n",
       "      <td>0.916113</td>\n",
       "      <td>0.191678</td>\n",
       "      <td>0.119461</td>\n",
       "      <td>0.137249</td>\n",
       "      <td>0.364759</td>\n",
       "    </tr>\n",
       "    <tr>\n",
       "      <th>2</th>\n",
       "      <td>1.703704</td>\n",
       "      <td>0.717437</td>\n",
       "      <td>0.896196</td>\n",
       "      <td>1.235869</td>\n",
       "      <td>2.614654</td>\n",
       "      <td>2.576933</td>\n",
       "      <td>-0.916170</td>\n",
       "      <td>2.441367</td>\n",
       "      <td>1.685727</td>\n",
       "      <td>0.527685</td>\n",
       "      <td>...</td>\n",
       "      <td>0.590070</td>\n",
       "      <td>1.980856</td>\n",
       "      <td>1.221704</td>\n",
       "      <td>2.028197</td>\n",
       "      <td>0.803815</td>\n",
       "      <td>2.115991</td>\n",
       "      <td>2.093375</td>\n",
       "      <td>2.635575</td>\n",
       "      <td>2.858952</td>\n",
       "      <td>0.786432</td>\n",
       "    </tr>\n",
       "    <tr>\n",
       "      <th>3</th>\n",
       "      <td>0.509553</td>\n",
       "      <td>0.198045</td>\n",
       "      <td>-0.397864</td>\n",
       "      <td>0.667024</td>\n",
       "      <td>0.346898</td>\n",
       "      <td>0.248968</td>\n",
       "      <td>-0.515818</td>\n",
       "      <td>0.252238</td>\n",
       "      <td>0.974825</td>\n",
       "      <td>-0.024474</td>\n",
       "      <td>...</td>\n",
       "      <td>-0.024183</td>\n",
       "      <td>0.577880</td>\n",
       "      <td>1.052957</td>\n",
       "      <td>0.937961</td>\n",
       "      <td>-0.197203</td>\n",
       "      <td>0.466158</td>\n",
       "      <td>0.583204</td>\n",
       "      <td>0.291667</td>\n",
       "      <td>0.290781</td>\n",
       "      <td>0.224201</td>\n",
       "    </tr>\n",
       "    <tr>\n",
       "      <th>4</th>\n",
       "      <td>-0.280424</td>\n",
       "      <td>-0.321347</td>\n",
       "      <td>-0.397864</td>\n",
       "      <td>-0.091435</td>\n",
       "      <td>-0.259391</td>\n",
       "      <td>-0.233956</td>\n",
       "      <td>-0.115466</td>\n",
       "      <td>-0.287964</td>\n",
       "      <td>-0.037816</td>\n",
       "      <td>-0.099057</td>\n",
       "      <td>...</td>\n",
       "      <td>-0.107155</td>\n",
       "      <td>-0.175570</td>\n",
       "      <td>-0.297018</td>\n",
       "      <td>0.003472</td>\n",
       "      <td>-0.197203</td>\n",
       "      <td>0.016203</td>\n",
       "      <td>-0.032051</td>\n",
       "      <td>-0.263217</td>\n",
       "      <td>-0.211687</td>\n",
       "      <td>-0.338030</td>\n",
       "    </tr>\n",
       "    <tr>\n",
       "      <th>...</th>\n",
       "      <td>...</td>\n",
       "      <td>...</td>\n",
       "      <td>...</td>\n",
       "      <td>...</td>\n",
       "      <td>...</td>\n",
       "      <td>...</td>\n",
       "      <td>...</td>\n",
       "      <td>...</td>\n",
       "      <td>...</td>\n",
       "      <td>...</td>\n",
       "      <td>...</td>\n",
       "      <td>...</td>\n",
       "      <td>...</td>\n",
       "      <td>...</td>\n",
       "      <td>...</td>\n",
       "      <td>...</td>\n",
       "      <td>...</td>\n",
       "      <td>...</td>\n",
       "      <td>...</td>\n",
       "      <td>...</td>\n",
       "      <td>...</td>\n",
       "    </tr>\n",
       "    <tr>\n",
       "      <th>67837</th>\n",
       "      <td>0.068636</td>\n",
       "      <td>-0.581043</td>\n",
       "      <td>-0.397864</td>\n",
       "      <td>-0.470664</td>\n",
       "      <td>0.166177</td>\n",
       "      <td>0.093159</td>\n",
       "      <td>-0.415730</td>\n",
       "      <td>0.023555</td>\n",
       "      <td>0.875264</td>\n",
       "      <td>-0.066003</td>\n",
       "      <td>...</td>\n",
       "      <td>-0.070285</td>\n",
       "      <td>0.214146</td>\n",
       "      <td>-0.297018</td>\n",
       "      <td>0.470717</td>\n",
       "      <td>-0.197203</td>\n",
       "      <td>0.316173</td>\n",
       "      <td>0.639136</td>\n",
       "      <td>0.129028</td>\n",
       "      <td>0.207036</td>\n",
       "      <td>-0.619145</td>\n",
       "    </tr>\n",
       "    <tr>\n",
       "      <th>67838</th>\n",
       "      <td>-0.317167</td>\n",
       "      <td>-0.321347</td>\n",
       "      <td>-0.397864</td>\n",
       "      <td>-0.091435</td>\n",
       "      <td>-0.341007</td>\n",
       "      <td>-0.294195</td>\n",
       "      <td>0.384974</td>\n",
       "      <td>-0.489743</td>\n",
       "      <td>-0.187158</td>\n",
       "      <td>-0.107689</td>\n",
       "      <td>...</td>\n",
       "      <td>-0.116757</td>\n",
       "      <td>-0.201551</td>\n",
       "      <td>-0.297018</td>\n",
       "      <td>-0.152276</td>\n",
       "      <td>-0.197203</td>\n",
       "      <td>-0.433751</td>\n",
       "      <td>-0.311713</td>\n",
       "      <td>-0.330186</td>\n",
       "      <td>-0.337304</td>\n",
       "      <td>-0.338030</td>\n",
       "    </tr>\n",
       "    <tr>\n",
       "      <th>67839</th>\n",
       "      <td>-0.243681</td>\n",
       "      <td>-0.451195</td>\n",
       "      <td>-0.397864</td>\n",
       "      <td>-0.281050</td>\n",
       "      <td>-0.259391</td>\n",
       "      <td>-0.232720</td>\n",
       "      <td>-0.015378</td>\n",
       "      <td>-0.330444</td>\n",
       "      <td>-0.039126</td>\n",
       "      <td>-0.101621</td>\n",
       "      <td>...</td>\n",
       "      <td>-0.110007</td>\n",
       "      <td>-0.123608</td>\n",
       "      <td>-0.297018</td>\n",
       "      <td>0.003472</td>\n",
       "      <td>-0.197203</td>\n",
       "      <td>0.616143</td>\n",
       "      <td>0.023881</td>\n",
       "      <td>-0.205816</td>\n",
       "      <td>-0.295432</td>\n",
       "      <td>-0.478588</td>\n",
       "    </tr>\n",
       "    <tr>\n",
       "      <th>67840</th>\n",
       "      <td>-0.353910</td>\n",
       "      <td>-0.451195</td>\n",
       "      <td>-0.397864</td>\n",
       "      <td>-0.470664</td>\n",
       "      <td>-0.276880</td>\n",
       "      <td>-0.250995</td>\n",
       "      <td>-0.015378</td>\n",
       "      <td>-0.307080</td>\n",
       "      <td>-0.154844</td>\n",
       "      <td>-0.101852</td>\n",
       "      <td>...</td>\n",
       "      <td>-0.110264</td>\n",
       "      <td>-0.279494</td>\n",
       "      <td>-0.297018</td>\n",
       "      <td>-0.308024</td>\n",
       "      <td>-0.197203</td>\n",
       "      <td>-0.583736</td>\n",
       "      <td>-0.199848</td>\n",
       "      <td>-0.272784</td>\n",
       "      <td>-0.239602</td>\n",
       "      <td>-0.478588</td>\n",
       "    </tr>\n",
       "    <tr>\n",
       "      <th>67841</th>\n",
       "      <td>1.170929</td>\n",
       "      <td>1.236829</td>\n",
       "      <td>1.543226</td>\n",
       "      <td>0.287795</td>\n",
       "      <td>-0.562536</td>\n",
       "      <td>-0.420478</td>\n",
       "      <td>-1.116346</td>\n",
       "      <td>-0.967641</td>\n",
       "      <td>-1.203729</td>\n",
       "      <td>-0.113545</td>\n",
       "      <td>...</td>\n",
       "      <td>-0.123272</td>\n",
       "      <td>-0.591266</td>\n",
       "      <td>-0.297018</td>\n",
       "      <td>-0.619520</td>\n",
       "      <td>-0.197203</td>\n",
       "      <td>-1.783615</td>\n",
       "      <td>-0.871035</td>\n",
       "      <td>-0.550227</td>\n",
       "      <td>-0.546666</td>\n",
       "      <td>1.348663</td>\n",
       "    </tr>\n",
       "  </tbody>\n",
       "</table>\n",
       "<p>67842 rows × 21 columns</p>\n",
       "</div>"
      ],
      "text/plain": [
       "            loc      v(g)     ev(g)     iv(g)         n         v         l  \\\n",
       "0     -0.078337 -0.061651 -0.397864  0.098180  0.276942  0.224801 -0.715994   \n",
       "1     -0.188566  0.327893  1.111873 -0.281050  0.166177  0.085093 -0.715994   \n",
       "2      1.703704  0.717437  0.896196  1.235869  2.614654  2.576933 -0.916170   \n",
       "3      0.509553  0.198045 -0.397864  0.667024  0.346898  0.248968 -0.515818   \n",
       "4     -0.280424 -0.321347 -0.397864 -0.091435 -0.259391 -0.233956 -0.115466   \n",
       "...         ...       ...       ...       ...       ...       ...       ...   \n",
       "67837  0.068636 -0.581043 -0.397864 -0.470664  0.166177  0.093159 -0.415730   \n",
       "67838 -0.317167 -0.321347 -0.397864 -0.091435 -0.341007 -0.294195  0.384974   \n",
       "67839 -0.243681 -0.451195 -0.397864 -0.281050 -0.259391 -0.232720 -0.015378   \n",
       "67840 -0.353910 -0.451195 -0.397864 -0.470664 -0.276880 -0.250995 -0.015378   \n",
       "67841  1.170929  1.236829  1.543226  0.287795 -0.562536 -0.420478 -1.116346   \n",
       "\n",
       "              d         i         e  ...         t    lOCode  lOComment  \\\n",
       "0      0.941120  0.108469  0.011415  ...  0.015741  0.188165  -0.297018   \n",
       "1      0.648009 -0.015109 -0.033599  ... -0.034335  0.006298  -0.297018   \n",
       "2      2.441367  1.685727  0.527685  ...  0.590070  1.980856   1.221704   \n",
       "3      0.252238  0.974825 -0.024474  ... -0.024183  0.577880   1.052957   \n",
       "4     -0.287964 -0.037816 -0.099057  ... -0.107155 -0.175570  -0.297018   \n",
       "...         ...       ...       ...  ...       ...       ...        ...   \n",
       "67837  0.023555  0.875264 -0.066003  ... -0.070285  0.214146  -0.297018   \n",
       "67838 -0.489743 -0.187158 -0.107689  ... -0.116757 -0.201551  -0.297018   \n",
       "67839 -0.330444 -0.039126 -0.101621  ... -0.110007 -0.123608  -0.297018   \n",
       "67840 -0.307080 -0.154844 -0.101852  ... -0.110264 -0.279494  -0.297018   \n",
       "67841 -0.967641 -1.203729 -0.113545  ... -0.123272 -0.591266  -0.297018   \n",
       "\n",
       "        lOBlank  locCodeAndComment   uniq_Op  uniq_Opnd  total_Op  total_Opnd  \\\n",
       "0     -0.152276          -0.197203  1.366067   0.415407  0.282100    0.248909   \n",
       "1     -0.308024          -0.197203  0.916113   0.191678  0.119461    0.137249   \n",
       "2      2.028197           0.803815  2.115991   2.093375  2.635575    2.858952   \n",
       "3      0.937961          -0.197203  0.466158   0.583204  0.291667    0.290781   \n",
       "4      0.003472          -0.197203  0.016203  -0.032051 -0.263217   -0.211687   \n",
       "...         ...                ...       ...        ...       ...         ...   \n",
       "67837  0.470717          -0.197203  0.316173   0.639136  0.129028    0.207036   \n",
       "67838 -0.152276          -0.197203 -0.433751  -0.311713 -0.330186   -0.337304   \n",
       "67839  0.003472          -0.197203  0.616143   0.023881 -0.205816   -0.295432   \n",
       "67840 -0.308024          -0.197203 -0.583736  -0.199848 -0.272784   -0.239602   \n",
       "67841 -0.619520          -0.197203 -1.783615  -0.871035 -0.550227   -0.546666   \n",
       "\n",
       "       branchCount  \n",
       "0        -0.056915  \n",
       "1         0.364759  \n",
       "2         0.786432  \n",
       "3         0.224201  \n",
       "4        -0.338030  \n",
       "...            ...  \n",
       "67837    -0.619145  \n",
       "67838    -0.338030  \n",
       "67839    -0.478588  \n",
       "67840    -0.478588  \n",
       "67841     1.348663  \n",
       "\n",
       "[67842 rows x 21 columns]"
      ]
     },
     "execution_count": 22,
     "metadata": {},
     "output_type": "execute_result"
    }
   ],
   "source": [
    "test_df_scaled"
   ]
  },
  {
   "cell_type": "markdown",
   "id": "e950c815",
   "metadata": {
    "execution": {
     "iopub.execute_input": "2023-10-21T04:45:21.728341Z",
     "iopub.status.busy": "2023-10-21T04:45:21.727904Z",
     "iopub.status.idle": "2023-10-21T04:45:21.732916Z",
     "shell.execute_reply": "2023-10-21T04:45:21.731709Z",
     "shell.execute_reply.started": "2023-10-21T04:45:21.728307Z"
    },
    "papermill": {
     "duration": 0.027667,
     "end_time": "2023-10-21T06:01:17.573690",
     "exception": false,
     "start_time": "2023-10-21T06:01:17.546023",
     "status": "completed"
    },
    "tags": []
   },
   "source": [
    "# Model Building"
   ]
  },
  {
   "cell_type": "code",
   "execution_count": 23,
   "id": "df8aca68",
   "metadata": {
    "execution": {
     "iopub.execute_input": "2023-10-21T06:01:17.637005Z",
     "iopub.status.busy": "2023-10-21T06:01:17.636402Z",
     "iopub.status.idle": "2023-10-21T06:01:17.641987Z",
     "shell.execute_reply": "2023-10-21T06:01:17.640921Z"
    },
    "papermill": {
     "duration": 0.037202,
     "end_time": "2023-10-21T06:01:17.644153",
     "exception": false,
     "start_time": "2023-10-21T06:01:17.606951",
     "status": "completed"
    },
    "tags": []
   },
   "outputs": [],
   "source": [
    "classifier = LogisticRegression()"
   ]
  },
  {
   "cell_type": "code",
   "execution_count": 24,
   "id": "96b6e88d",
   "metadata": {
    "execution": {
     "iopub.execute_input": "2023-10-21T06:01:17.692680Z",
     "iopub.status.busy": "2023-10-21T06:01:17.691757Z",
     "iopub.status.idle": "2023-10-21T06:01:18.621805Z",
     "shell.execute_reply": "2023-10-21T06:01:18.619765Z"
    },
    "papermill": {
     "duration": 0.959092,
     "end_time": "2023-10-21T06:01:18.626463",
     "exception": false,
     "start_time": "2023-10-21T06:01:17.667371",
     "status": "completed"
    },
    "tags": []
   },
   "outputs": [
    {
     "data": {
      "text/html": [
       "<style>#sk-container-id-1 {color: black;background-color: white;}#sk-container-id-1 pre{padding: 0;}#sk-container-id-1 div.sk-toggleable {background-color: white;}#sk-container-id-1 label.sk-toggleable__label {cursor: pointer;display: block;width: 100%;margin-bottom: 0;padding: 0.3em;box-sizing: border-box;text-align: center;}#sk-container-id-1 label.sk-toggleable__label-arrow:before {content: \"▸\";float: left;margin-right: 0.25em;color: #696969;}#sk-container-id-1 label.sk-toggleable__label-arrow:hover:before {color: black;}#sk-container-id-1 div.sk-estimator:hover label.sk-toggleable__label-arrow:before {color: black;}#sk-container-id-1 div.sk-toggleable__content {max-height: 0;max-width: 0;overflow: hidden;text-align: left;background-color: #f0f8ff;}#sk-container-id-1 div.sk-toggleable__content pre {margin: 0.2em;color: black;border-radius: 0.25em;background-color: #f0f8ff;}#sk-container-id-1 input.sk-toggleable__control:checked~div.sk-toggleable__content {max-height: 200px;max-width: 100%;overflow: auto;}#sk-container-id-1 input.sk-toggleable__control:checked~label.sk-toggleable__label-arrow:before {content: \"▾\";}#sk-container-id-1 div.sk-estimator input.sk-toggleable__control:checked~label.sk-toggleable__label {background-color: #d4ebff;}#sk-container-id-1 div.sk-label input.sk-toggleable__control:checked~label.sk-toggleable__label {background-color: #d4ebff;}#sk-container-id-1 input.sk-hidden--visually {border: 0;clip: rect(1px 1px 1px 1px);clip: rect(1px, 1px, 1px, 1px);height: 1px;margin: -1px;overflow: hidden;padding: 0;position: absolute;width: 1px;}#sk-container-id-1 div.sk-estimator {font-family: monospace;background-color: #f0f8ff;border: 1px dotted black;border-radius: 0.25em;box-sizing: border-box;margin-bottom: 0.5em;}#sk-container-id-1 div.sk-estimator:hover {background-color: #d4ebff;}#sk-container-id-1 div.sk-parallel-item::after {content: \"\";width: 100%;border-bottom: 1px solid gray;flex-grow: 1;}#sk-container-id-1 div.sk-label:hover label.sk-toggleable__label {background-color: #d4ebff;}#sk-container-id-1 div.sk-serial::before {content: \"\";position: absolute;border-left: 1px solid gray;box-sizing: border-box;top: 0;bottom: 0;left: 50%;z-index: 0;}#sk-container-id-1 div.sk-serial {display: flex;flex-direction: column;align-items: center;background-color: white;padding-right: 0.2em;padding-left: 0.2em;position: relative;}#sk-container-id-1 div.sk-item {position: relative;z-index: 1;}#sk-container-id-1 div.sk-parallel {display: flex;align-items: stretch;justify-content: center;background-color: white;position: relative;}#sk-container-id-1 div.sk-item::before, #sk-container-id-1 div.sk-parallel-item::before {content: \"\";position: absolute;border-left: 1px solid gray;box-sizing: border-box;top: 0;bottom: 0;left: 50%;z-index: -1;}#sk-container-id-1 div.sk-parallel-item {display: flex;flex-direction: column;z-index: 1;position: relative;background-color: white;}#sk-container-id-1 div.sk-parallel-item:first-child::after {align-self: flex-end;width: 50%;}#sk-container-id-1 div.sk-parallel-item:last-child::after {align-self: flex-start;width: 50%;}#sk-container-id-1 div.sk-parallel-item:only-child::after {width: 0;}#sk-container-id-1 div.sk-dashed-wrapped {border: 1px dashed gray;margin: 0 0.4em 0.5em 0.4em;box-sizing: border-box;padding-bottom: 0.4em;background-color: white;}#sk-container-id-1 div.sk-label label {font-family: monospace;font-weight: bold;display: inline-block;line-height: 1.2em;}#sk-container-id-1 div.sk-label-container {text-align: center;}#sk-container-id-1 div.sk-container {/* jupyter's `normalize.less` sets `[hidden] { display: none; }` but bootstrap.min.css set `[hidden] { display: none !important; }` so we also need the `!important` here to be able to override the default hidden behavior on the sphinx rendered scikit-learn.org. See: https://github.com/scikit-learn/scikit-learn/issues/21755 */display: inline-block !important;position: relative;}#sk-container-id-1 div.sk-text-repr-fallback {display: none;}</style><div id=\"sk-container-id-1\" class=\"sk-top-container\"><div class=\"sk-text-repr-fallback\"><pre>LogisticRegression()</pre><b>In a Jupyter environment, please rerun this cell to show the HTML representation or trust the notebook. <br />On GitHub, the HTML representation is unable to render, please try loading this page with nbviewer.org.</b></div><div class=\"sk-container\" hidden><div class=\"sk-item\"><div class=\"sk-estimator sk-toggleable\"><input class=\"sk-toggleable__control sk-hidden--visually\" id=\"sk-estimator-id-1\" type=\"checkbox\" checked><label for=\"sk-estimator-id-1\" class=\"sk-toggleable__label sk-toggleable__label-arrow\">LogisticRegression</label><div class=\"sk-toggleable__content\"><pre>LogisticRegression()</pre></div></div></div></div></div>"
      ],
      "text/plain": [
       "LogisticRegression()"
      ]
     },
     "execution_count": 24,
     "metadata": {},
     "output_type": "execute_result"
    }
   ],
   "source": [
    "classifier.fit(X_train_scaled,y_train)"
   ]
  },
  {
   "cell_type": "code",
   "execution_count": 25,
   "id": "a94cf6df",
   "metadata": {
    "execution": {
     "iopub.execute_input": "2023-10-21T06:01:18.726870Z",
     "iopub.status.busy": "2023-10-21T06:01:18.726471Z",
     "iopub.status.idle": "2023-10-21T06:01:18.732988Z",
     "shell.execute_reply": "2023-10-21T06:01:18.731802Z"
    },
    "papermill": {
     "duration": 0.055247,
     "end_time": "2023-10-21T06:01:18.735370",
     "exception": false,
     "start_time": "2023-10-21T06:01:18.680123",
     "status": "completed"
    },
    "tags": []
   },
   "outputs": [],
   "source": [
    "parameters = {\n",
    "    'penalty': ['l1', 'l2', 'elasticnet', 'none'],\n",
    "    'C': [0.001, 0.01, 0.1, 1, 10, 100],  # Adjust the range as needed\n",
    "    'fit_intercept': [True, False],  # Whether to fit the intercept or not\n",
    "    'solver': ['newton-cg', 'lbfgs', 'liblinear', 'sag', 'saga'],  # Different solvers for optimization\n",
    "}"
   ]
  },
  {
   "cell_type": "code",
   "execution_count": 26,
   "id": "f8fb18c0",
   "metadata": {
    "execution": {
     "iopub.execute_input": "2023-10-21T06:01:18.783473Z",
     "iopub.status.busy": "2023-10-21T06:01:18.782676Z",
     "iopub.status.idle": "2023-10-21T06:01:18.787775Z",
     "shell.execute_reply": "2023-10-21T06:01:18.786991Z"
    },
    "papermill": {
     "duration": 0.031542,
     "end_time": "2023-10-21T06:01:18.790029",
     "exception": false,
     "start_time": "2023-10-21T06:01:18.758487",
     "status": "completed"
    },
    "tags": []
   },
   "outputs": [],
   "source": [
    "random_clf=RandomizedSearchCV(classifier,param_distributions=parameters,cv=5)"
   ]
  },
  {
   "cell_type": "code",
   "execution_count": 27,
   "id": "0a360e9b",
   "metadata": {
    "execution": {
     "iopub.execute_input": "2023-10-21T06:01:18.837537Z",
     "iopub.status.busy": "2023-10-21T06:01:18.836725Z",
     "iopub.status.idle": "2023-10-21T06:02:34.616464Z",
     "shell.execute_reply": "2023-10-21T06:02:34.615015Z"
    },
    "papermill": {
     "duration": 75.856753,
     "end_time": "2023-10-21T06:02:34.669366",
     "exception": false,
     "start_time": "2023-10-21T06:01:18.812613",
     "status": "completed"
    },
    "tags": []
   },
   "outputs": [
    {
     "data": {
      "text/html": [
       "<style>#sk-container-id-2 {color: black;background-color: white;}#sk-container-id-2 pre{padding: 0;}#sk-container-id-2 div.sk-toggleable {background-color: white;}#sk-container-id-2 label.sk-toggleable__label {cursor: pointer;display: block;width: 100%;margin-bottom: 0;padding: 0.3em;box-sizing: border-box;text-align: center;}#sk-container-id-2 label.sk-toggleable__label-arrow:before {content: \"▸\";float: left;margin-right: 0.25em;color: #696969;}#sk-container-id-2 label.sk-toggleable__label-arrow:hover:before {color: black;}#sk-container-id-2 div.sk-estimator:hover label.sk-toggleable__label-arrow:before {color: black;}#sk-container-id-2 div.sk-toggleable__content {max-height: 0;max-width: 0;overflow: hidden;text-align: left;background-color: #f0f8ff;}#sk-container-id-2 div.sk-toggleable__content pre {margin: 0.2em;color: black;border-radius: 0.25em;background-color: #f0f8ff;}#sk-container-id-2 input.sk-toggleable__control:checked~div.sk-toggleable__content {max-height: 200px;max-width: 100%;overflow: auto;}#sk-container-id-2 input.sk-toggleable__control:checked~label.sk-toggleable__label-arrow:before {content: \"▾\";}#sk-container-id-2 div.sk-estimator input.sk-toggleable__control:checked~label.sk-toggleable__label {background-color: #d4ebff;}#sk-container-id-2 div.sk-label input.sk-toggleable__control:checked~label.sk-toggleable__label {background-color: #d4ebff;}#sk-container-id-2 input.sk-hidden--visually {border: 0;clip: rect(1px 1px 1px 1px);clip: rect(1px, 1px, 1px, 1px);height: 1px;margin: -1px;overflow: hidden;padding: 0;position: absolute;width: 1px;}#sk-container-id-2 div.sk-estimator {font-family: monospace;background-color: #f0f8ff;border: 1px dotted black;border-radius: 0.25em;box-sizing: border-box;margin-bottom: 0.5em;}#sk-container-id-2 div.sk-estimator:hover {background-color: #d4ebff;}#sk-container-id-2 div.sk-parallel-item::after {content: \"\";width: 100%;border-bottom: 1px solid gray;flex-grow: 1;}#sk-container-id-2 div.sk-label:hover label.sk-toggleable__label {background-color: #d4ebff;}#sk-container-id-2 div.sk-serial::before {content: \"\";position: absolute;border-left: 1px solid gray;box-sizing: border-box;top: 0;bottom: 0;left: 50%;z-index: 0;}#sk-container-id-2 div.sk-serial {display: flex;flex-direction: column;align-items: center;background-color: white;padding-right: 0.2em;padding-left: 0.2em;position: relative;}#sk-container-id-2 div.sk-item {position: relative;z-index: 1;}#sk-container-id-2 div.sk-parallel {display: flex;align-items: stretch;justify-content: center;background-color: white;position: relative;}#sk-container-id-2 div.sk-item::before, #sk-container-id-2 div.sk-parallel-item::before {content: \"\";position: absolute;border-left: 1px solid gray;box-sizing: border-box;top: 0;bottom: 0;left: 50%;z-index: -1;}#sk-container-id-2 div.sk-parallel-item {display: flex;flex-direction: column;z-index: 1;position: relative;background-color: white;}#sk-container-id-2 div.sk-parallel-item:first-child::after {align-self: flex-end;width: 50%;}#sk-container-id-2 div.sk-parallel-item:last-child::after {align-self: flex-start;width: 50%;}#sk-container-id-2 div.sk-parallel-item:only-child::after {width: 0;}#sk-container-id-2 div.sk-dashed-wrapped {border: 1px dashed gray;margin: 0 0.4em 0.5em 0.4em;box-sizing: border-box;padding-bottom: 0.4em;background-color: white;}#sk-container-id-2 div.sk-label label {font-family: monospace;font-weight: bold;display: inline-block;line-height: 1.2em;}#sk-container-id-2 div.sk-label-container {text-align: center;}#sk-container-id-2 div.sk-container {/* jupyter's `normalize.less` sets `[hidden] { display: none; }` but bootstrap.min.css set `[hidden] { display: none !important; }` so we also need the `!important` here to be able to override the default hidden behavior on the sphinx rendered scikit-learn.org. See: https://github.com/scikit-learn/scikit-learn/issues/21755 */display: inline-block !important;position: relative;}#sk-container-id-2 div.sk-text-repr-fallback {display: none;}</style><div id=\"sk-container-id-2\" class=\"sk-top-container\"><div class=\"sk-text-repr-fallback\"><pre>RandomizedSearchCV(cv=5, estimator=LogisticRegression(),\n",
       "                   param_distributions={&#x27;C&#x27;: [0.001, 0.01, 0.1, 1, 10, 100],\n",
       "                                        &#x27;fit_intercept&#x27;: [True, False],\n",
       "                                        &#x27;penalty&#x27;: [&#x27;l1&#x27;, &#x27;l2&#x27;, &#x27;elasticnet&#x27;,\n",
       "                                                    &#x27;none&#x27;],\n",
       "                                        &#x27;solver&#x27;: [&#x27;newton-cg&#x27;, &#x27;lbfgs&#x27;,\n",
       "                                                   &#x27;liblinear&#x27;, &#x27;sag&#x27;,\n",
       "                                                   &#x27;saga&#x27;]})</pre><b>In a Jupyter environment, please rerun this cell to show the HTML representation or trust the notebook. <br />On GitHub, the HTML representation is unable to render, please try loading this page with nbviewer.org.</b></div><div class=\"sk-container\" hidden><div class=\"sk-item sk-dashed-wrapped\"><div class=\"sk-label-container\"><div class=\"sk-label sk-toggleable\"><input class=\"sk-toggleable__control sk-hidden--visually\" id=\"sk-estimator-id-2\" type=\"checkbox\" ><label for=\"sk-estimator-id-2\" class=\"sk-toggleable__label sk-toggleable__label-arrow\">RandomizedSearchCV</label><div class=\"sk-toggleable__content\"><pre>RandomizedSearchCV(cv=5, estimator=LogisticRegression(),\n",
       "                   param_distributions={&#x27;C&#x27;: [0.001, 0.01, 0.1, 1, 10, 100],\n",
       "                                        &#x27;fit_intercept&#x27;: [True, False],\n",
       "                                        &#x27;penalty&#x27;: [&#x27;l1&#x27;, &#x27;l2&#x27;, &#x27;elasticnet&#x27;,\n",
       "                                                    &#x27;none&#x27;],\n",
       "                                        &#x27;solver&#x27;: [&#x27;newton-cg&#x27;, &#x27;lbfgs&#x27;,\n",
       "                                                   &#x27;liblinear&#x27;, &#x27;sag&#x27;,\n",
       "                                                   &#x27;saga&#x27;]})</pre></div></div></div><div class=\"sk-parallel\"><div class=\"sk-parallel-item\"><div class=\"sk-item\"><div class=\"sk-label-container\"><div class=\"sk-label sk-toggleable\"><input class=\"sk-toggleable__control sk-hidden--visually\" id=\"sk-estimator-id-3\" type=\"checkbox\" ><label for=\"sk-estimator-id-3\" class=\"sk-toggleable__label sk-toggleable__label-arrow\">estimator: LogisticRegression</label><div class=\"sk-toggleable__content\"><pre>LogisticRegression()</pre></div></div></div><div class=\"sk-serial\"><div class=\"sk-item\"><div class=\"sk-estimator sk-toggleable\"><input class=\"sk-toggleable__control sk-hidden--visually\" id=\"sk-estimator-id-4\" type=\"checkbox\" ><label for=\"sk-estimator-id-4\" class=\"sk-toggleable__label sk-toggleable__label-arrow\">LogisticRegression</label><div class=\"sk-toggleable__content\"><pre>LogisticRegression()</pre></div></div></div></div></div></div></div></div></div></div>"
      ],
      "text/plain": [
       "RandomizedSearchCV(cv=5, estimator=LogisticRegression(),\n",
       "                   param_distributions={'C': [0.001, 0.01, 0.1, 1, 10, 100],\n",
       "                                        'fit_intercept': [True, False],\n",
       "                                        'penalty': ['l1', 'l2', 'elasticnet',\n",
       "                                                    'none'],\n",
       "                                        'solver': ['newton-cg', 'lbfgs',\n",
       "                                                   'liblinear', 'sag',\n",
       "                                                   'saga']})"
      ]
     },
     "execution_count": 27,
     "metadata": {},
     "output_type": "execute_result"
    }
   ],
   "source": [
    "random_clf.fit(X_train_scaled,y_train)"
   ]
  },
  {
   "cell_type": "code",
   "execution_count": 28,
   "id": "982839bf",
   "metadata": {
    "execution": {
     "iopub.execute_input": "2023-10-21T06:02:34.741164Z",
     "iopub.status.busy": "2023-10-21T06:02:34.740774Z",
     "iopub.status.idle": "2023-10-21T06:02:34.747833Z",
     "shell.execute_reply": "2023-10-21T06:02:34.746792Z"
    },
    "papermill": {
     "duration": 0.035271,
     "end_time": "2023-10-21T06:02:34.750385",
     "exception": false,
     "start_time": "2023-10-21T06:02:34.715114",
     "status": "completed"
    },
    "tags": []
   },
   "outputs": [
    {
     "data": {
      "text/plain": [
       "{'solver': 'newton-cg', 'penalty': 'none', 'fit_intercept': True, 'C': 0.01}"
      ]
     },
     "execution_count": 28,
     "metadata": {},
     "output_type": "execute_result"
    }
   ],
   "source": [
    "random_clf.best_params_"
   ]
  },
  {
   "cell_type": "code",
   "execution_count": 29,
   "id": "02e2ce34",
   "metadata": {
    "execution": {
     "iopub.execute_input": "2023-10-21T06:02:34.799390Z",
     "iopub.status.busy": "2023-10-21T06:02:34.798982Z",
     "iopub.status.idle": "2023-10-21T06:02:34.804514Z",
     "shell.execute_reply": "2023-10-21T06:02:34.803314Z"
    },
    "papermill": {
     "duration": 0.032762,
     "end_time": "2023-10-21T06:02:34.806943",
     "exception": false,
     "start_time": "2023-10-21T06:02:34.774181",
     "status": "completed"
    },
    "tags": []
   },
   "outputs": [],
   "source": [
    "classifier = LogisticRegression(solver='newton-cg',penalty='l2',fit_intercept= True,C = 100)"
   ]
  },
  {
   "cell_type": "code",
   "execution_count": 30,
   "id": "7500711e",
   "metadata": {
    "execution": {
     "iopub.execute_input": "2023-10-21T06:02:34.856514Z",
     "iopub.status.busy": "2023-10-21T06:02:34.855803Z",
     "iopub.status.idle": "2023-10-21T06:02:35.901145Z",
     "shell.execute_reply": "2023-10-21T06:02:35.900022Z"
    },
    "papermill": {
     "duration": 1.074084,
     "end_time": "2023-10-21T06:02:35.904783",
     "exception": false,
     "start_time": "2023-10-21T06:02:34.830699",
     "status": "completed"
    },
    "tags": []
   },
   "outputs": [
    {
     "data": {
      "text/html": [
       "<style>#sk-container-id-3 {color: black;background-color: white;}#sk-container-id-3 pre{padding: 0;}#sk-container-id-3 div.sk-toggleable {background-color: white;}#sk-container-id-3 label.sk-toggleable__label {cursor: pointer;display: block;width: 100%;margin-bottom: 0;padding: 0.3em;box-sizing: border-box;text-align: center;}#sk-container-id-3 label.sk-toggleable__label-arrow:before {content: \"▸\";float: left;margin-right: 0.25em;color: #696969;}#sk-container-id-3 label.sk-toggleable__label-arrow:hover:before {color: black;}#sk-container-id-3 div.sk-estimator:hover label.sk-toggleable__label-arrow:before {color: black;}#sk-container-id-3 div.sk-toggleable__content {max-height: 0;max-width: 0;overflow: hidden;text-align: left;background-color: #f0f8ff;}#sk-container-id-3 div.sk-toggleable__content pre {margin: 0.2em;color: black;border-radius: 0.25em;background-color: #f0f8ff;}#sk-container-id-3 input.sk-toggleable__control:checked~div.sk-toggleable__content {max-height: 200px;max-width: 100%;overflow: auto;}#sk-container-id-3 input.sk-toggleable__control:checked~label.sk-toggleable__label-arrow:before {content: \"▾\";}#sk-container-id-3 div.sk-estimator input.sk-toggleable__control:checked~label.sk-toggleable__label {background-color: #d4ebff;}#sk-container-id-3 div.sk-label input.sk-toggleable__control:checked~label.sk-toggleable__label {background-color: #d4ebff;}#sk-container-id-3 input.sk-hidden--visually {border: 0;clip: rect(1px 1px 1px 1px);clip: rect(1px, 1px, 1px, 1px);height: 1px;margin: -1px;overflow: hidden;padding: 0;position: absolute;width: 1px;}#sk-container-id-3 div.sk-estimator {font-family: monospace;background-color: #f0f8ff;border: 1px dotted black;border-radius: 0.25em;box-sizing: border-box;margin-bottom: 0.5em;}#sk-container-id-3 div.sk-estimator:hover {background-color: #d4ebff;}#sk-container-id-3 div.sk-parallel-item::after {content: \"\";width: 100%;border-bottom: 1px solid gray;flex-grow: 1;}#sk-container-id-3 div.sk-label:hover label.sk-toggleable__label {background-color: #d4ebff;}#sk-container-id-3 div.sk-serial::before {content: \"\";position: absolute;border-left: 1px solid gray;box-sizing: border-box;top: 0;bottom: 0;left: 50%;z-index: 0;}#sk-container-id-3 div.sk-serial {display: flex;flex-direction: column;align-items: center;background-color: white;padding-right: 0.2em;padding-left: 0.2em;position: relative;}#sk-container-id-3 div.sk-item {position: relative;z-index: 1;}#sk-container-id-3 div.sk-parallel {display: flex;align-items: stretch;justify-content: center;background-color: white;position: relative;}#sk-container-id-3 div.sk-item::before, #sk-container-id-3 div.sk-parallel-item::before {content: \"\";position: absolute;border-left: 1px solid gray;box-sizing: border-box;top: 0;bottom: 0;left: 50%;z-index: -1;}#sk-container-id-3 div.sk-parallel-item {display: flex;flex-direction: column;z-index: 1;position: relative;background-color: white;}#sk-container-id-3 div.sk-parallel-item:first-child::after {align-self: flex-end;width: 50%;}#sk-container-id-3 div.sk-parallel-item:last-child::after {align-self: flex-start;width: 50%;}#sk-container-id-3 div.sk-parallel-item:only-child::after {width: 0;}#sk-container-id-3 div.sk-dashed-wrapped {border: 1px dashed gray;margin: 0 0.4em 0.5em 0.4em;box-sizing: border-box;padding-bottom: 0.4em;background-color: white;}#sk-container-id-3 div.sk-label label {font-family: monospace;font-weight: bold;display: inline-block;line-height: 1.2em;}#sk-container-id-3 div.sk-label-container {text-align: center;}#sk-container-id-3 div.sk-container {/* jupyter's `normalize.less` sets `[hidden] { display: none; }` but bootstrap.min.css set `[hidden] { display: none !important; }` so we also need the `!important` here to be able to override the default hidden behavior on the sphinx rendered scikit-learn.org. See: https://github.com/scikit-learn/scikit-learn/issues/21755 */display: inline-block !important;position: relative;}#sk-container-id-3 div.sk-text-repr-fallback {display: none;}</style><div id=\"sk-container-id-3\" class=\"sk-top-container\"><div class=\"sk-text-repr-fallback\"><pre>LogisticRegression(C=100, solver=&#x27;newton-cg&#x27;)</pre><b>In a Jupyter environment, please rerun this cell to show the HTML representation or trust the notebook. <br />On GitHub, the HTML representation is unable to render, please try loading this page with nbviewer.org.</b></div><div class=\"sk-container\" hidden><div class=\"sk-item\"><div class=\"sk-estimator sk-toggleable\"><input class=\"sk-toggleable__control sk-hidden--visually\" id=\"sk-estimator-id-5\" type=\"checkbox\" checked><label for=\"sk-estimator-id-5\" class=\"sk-toggleable__label sk-toggleable__label-arrow\">LogisticRegression</label><div class=\"sk-toggleable__content\"><pre>LogisticRegression(C=100, solver=&#x27;newton-cg&#x27;)</pre></div></div></div></div></div>"
      ],
      "text/plain": [
       "LogisticRegression(C=100, solver='newton-cg')"
      ]
     },
     "execution_count": 30,
     "metadata": {},
     "output_type": "execute_result"
    }
   ],
   "source": [
    "classifier.fit(X_train_scaled,y_train)"
   ]
  },
  {
   "cell_type": "code",
   "execution_count": 31,
   "id": "9b480d5a",
   "metadata": {
    "execution": {
     "iopub.execute_input": "2023-10-21T06:02:36.012258Z",
     "iopub.status.busy": "2023-10-21T06:02:36.011695Z",
     "iopub.status.idle": "2023-10-21T06:02:36.026963Z",
     "shell.execute_reply": "2023-10-21T06:02:36.025336Z"
    },
    "papermill": {
     "duration": 0.061412,
     "end_time": "2023-10-21T06:02:36.030851",
     "exception": false,
     "start_time": "2023-10-21T06:02:35.969439",
     "status": "completed"
    },
    "tags": []
   },
   "outputs": [],
   "source": [
    "## prediction\n",
    "y_pred = classifier.predict(X_test_scaled)"
   ]
  },
  {
   "cell_type": "code",
   "execution_count": 32,
   "id": "96ce2406",
   "metadata": {
    "execution": {
     "iopub.execute_input": "2023-10-21T06:02:36.164818Z",
     "iopub.status.busy": "2023-10-21T06:02:36.164430Z",
     "iopub.status.idle": "2023-10-21T06:02:36.170715Z",
     "shell.execute_reply": "2023-10-21T06:02:36.169728Z"
    },
    "papermill": {
     "duration": 0.048301,
     "end_time": "2023-10-21T06:02:36.172906",
     "exception": false,
     "start_time": "2023-10-21T06:02:36.124605",
     "status": "completed"
    },
    "tags": []
   },
   "outputs": [
    {
     "data": {
      "text/plain": [
       "array([ True, False, False, ...,  True, False,  True])"
      ]
     },
     "execution_count": 32,
     "metadata": {},
     "output_type": "execute_result"
    }
   ],
   "source": [
    "y_pred"
   ]
  },
  {
   "cell_type": "code",
   "execution_count": 33,
   "id": "938c7305",
   "metadata": {
    "execution": {
     "iopub.execute_input": "2023-10-21T06:02:36.221842Z",
     "iopub.status.busy": "2023-10-21T06:02:36.221421Z",
     "iopub.status.idle": "2023-10-21T06:02:36.230458Z",
     "shell.execute_reply": "2023-10-21T06:02:36.229359Z"
    },
    "papermill": {
     "duration": 0.036514,
     "end_time": "2023-10-21T06:02:36.233000",
     "exception": false,
     "start_time": "2023-10-21T06:02:36.196486",
     "status": "completed"
    },
    "tags": []
   },
   "outputs": [
    {
     "data": {
      "text/plain": [
       "78020     True\n",
       "24973    False\n",
       "27486    False\n",
       "46692    False\n",
       "19513     True\n",
       "         ...  \n",
       "41928    False\n",
       "56067    False\n",
       "10356     True\n",
       "90904    False\n",
       "21362    False\n",
       "Name: defects, Length: 20353, dtype: bool"
      ]
     },
     "execution_count": 33,
     "metadata": {},
     "output_type": "execute_result"
    }
   ],
   "source": [
    "y_test"
   ]
  },
  {
   "cell_type": "markdown",
   "id": "ccef12ca",
   "metadata": {
    "papermill": {
     "duration": 0.023774,
     "end_time": "2023-10-21T06:02:36.281079",
     "exception": false,
     "start_time": "2023-10-21T06:02:36.257305",
     "status": "completed"
    },
    "tags": []
   },
   "source": [
    "# Confusion matrix,accuracy score,classification report"
   ]
  },
  {
   "cell_type": "code",
   "execution_count": 34,
   "id": "519e654b",
   "metadata": {
    "execution": {
     "iopub.execute_input": "2023-10-21T06:02:36.333229Z",
     "iopub.status.busy": "2023-10-21T06:02:36.332452Z",
     "iopub.status.idle": "2023-10-21T06:02:36.378589Z",
     "shell.execute_reply": "2023-10-21T06:02:36.377599Z"
    },
    "papermill": {
     "duration": 0.076183,
     "end_time": "2023-10-21T06:02:36.381601",
     "exception": false,
     "start_time": "2023-10-21T06:02:36.305418",
     "status": "completed"
    },
    "tags": []
   },
   "outputs": [
    {
     "name": "stdout",
     "output_type": "stream",
     "text": [
      "[[15125  3410]\n",
      " [  539  1279]]\n",
      "0.8059745492065051\n",
      "              precision    recall  f1-score   support\n",
      "\n",
      "       False       0.97      0.82      0.88     18535\n",
      "        True       0.27      0.70      0.39      1818\n",
      "\n",
      "    accuracy                           0.81     20353\n",
      "   macro avg       0.62      0.76      0.64     20353\n",
      "weighted avg       0.90      0.81      0.84     20353\n",
      "\n"
     ]
    }
   ],
   "source": [
    "print(confusion_matrix(y_pred,y_test))\n",
    "print(accuracy_score(y_pred,y_test))\n",
    "print(classification_report(y_pred,y_test))"
   ]
  },
  {
   "cell_type": "code",
   "execution_count": 35,
   "id": "e6b34eaa",
   "metadata": {
    "execution": {
     "iopub.execute_input": "2023-10-21T06:02:36.432424Z",
     "iopub.status.busy": "2023-10-21T06:02:36.431996Z",
     "iopub.status.idle": "2023-10-21T06:02:36.458604Z",
     "shell.execute_reply": "2023-10-21T06:02:36.457392Z"
    },
    "papermill": {
     "duration": 0.056297,
     "end_time": "2023-10-21T06:02:36.462334",
     "exception": false,
     "start_time": "2023-10-21T06:02:36.406037",
     "status": "completed"
    },
    "tags": []
   },
   "outputs": [
    {
     "data": {
      "text/plain": [
       "0.8089423903697335"
      ]
     },
     "execution_count": 35,
     "metadata": {},
     "output_type": "execute_result"
    }
   ],
   "source": [
    "classifier.score(X_train_scaled,y_train)"
   ]
  },
  {
   "cell_type": "code",
   "execution_count": 36,
   "id": "0ad608fe",
   "metadata": {
    "execution": {
     "iopub.execute_input": "2023-10-21T06:02:36.565218Z",
     "iopub.status.busy": "2023-10-21T06:02:36.564501Z",
     "iopub.status.idle": "2023-10-21T06:02:36.575708Z",
     "shell.execute_reply": "2023-10-21T06:02:36.574147Z"
    },
    "papermill": {
     "duration": 0.065285,
     "end_time": "2023-10-21T06:02:36.579723",
     "exception": false,
     "start_time": "2023-10-21T06:02:36.514438",
     "status": "completed"
    },
    "tags": []
   },
   "outputs": [],
   "source": [
    "probabilities = classifier.predict_proba(test_df_scaled)"
   ]
  },
  {
   "cell_type": "code",
   "execution_count": 37,
   "id": "aed93f66",
   "metadata": {
    "execution": {
     "iopub.execute_input": "2023-10-21T06:02:36.687361Z",
     "iopub.status.busy": "2023-10-21T06:02:36.685463Z",
     "iopub.status.idle": "2023-10-21T06:02:36.695190Z",
     "shell.execute_reply": "2023-10-21T06:02:36.694349Z"
    },
    "papermill": {
     "duration": 0.065116,
     "end_time": "2023-10-21T06:02:36.697196",
     "exception": false,
     "start_time": "2023-10-21T06:02:36.632080",
     "status": "completed"
    },
    "tags": []
   },
   "outputs": [
    {
     "data": {
      "text/plain": [
       "array([[0.75160242, 0.24839758],\n",
       "       [0.78493328, 0.21506672],\n",
       "       [0.41660451, 0.58339549],\n",
       "       ...,\n",
       "       [0.83236927, 0.16763073],\n",
       "       [0.86681076, 0.13318924],\n",
       "       [0.39976021, 0.60023979]])"
      ]
     },
     "execution_count": 37,
     "metadata": {},
     "output_type": "execute_result"
    }
   ],
   "source": [
    "probabilities\n"
   ]
  },
  {
   "cell_type": "code",
   "execution_count": 38,
   "id": "c7754667",
   "metadata": {
    "execution": {
     "iopub.execute_input": "2023-10-21T06:02:36.747738Z",
     "iopub.status.busy": "2023-10-21T06:02:36.746989Z",
     "iopub.status.idle": "2023-10-21T06:02:36.751175Z",
     "shell.execute_reply": "2023-10-21T06:02:36.750365Z"
    },
    "papermill": {
     "duration": 0.031904,
     "end_time": "2023-10-21T06:02:36.753420",
     "exception": false,
     "start_time": "2023-10-21T06:02:36.721516",
     "status": "completed"
    },
    "tags": []
   },
   "outputs": [],
   "source": [
    "# Classify based on the threshold\n",
    "predictions = probabilities[:, 1]"
   ]
  },
  {
   "cell_type": "code",
   "execution_count": 39,
   "id": "bb7e4258",
   "metadata": {
    "execution": {
     "iopub.execute_input": "2023-10-21T06:02:36.804693Z",
     "iopub.status.busy": "2023-10-21T06:02:36.803938Z",
     "iopub.status.idle": "2023-10-21T06:02:36.810215Z",
     "shell.execute_reply": "2023-10-21T06:02:36.809434Z"
    },
    "papermill": {
     "duration": 0.034175,
     "end_time": "2023-10-21T06:02:36.812356",
     "exception": false,
     "start_time": "2023-10-21T06:02:36.778181",
     "status": "completed"
    },
    "tags": []
   },
   "outputs": [
    {
     "data": {
      "text/plain": [
       "array([0.24839758, 0.21506672, 0.58339549, ..., 0.16763073, 0.13318924,\n",
       "       0.60023979])"
      ]
     },
     "execution_count": 39,
     "metadata": {},
     "output_type": "execute_result"
    }
   ],
   "source": [
    "predictions"
   ]
  },
  {
   "cell_type": "code",
   "execution_count": 40,
   "id": "ec846249",
   "metadata": {
    "execution": {
     "iopub.execute_input": "2023-10-21T06:02:36.863222Z",
     "iopub.status.busy": "2023-10-21T06:02:36.862474Z",
     "iopub.status.idle": "2023-10-21T06:02:36.899744Z",
     "shell.execute_reply": "2023-10-21T06:02:36.898525Z"
    },
    "papermill": {
     "duration": 0.066101,
     "end_time": "2023-10-21T06:02:36.902651",
     "exception": false,
     "start_time": "2023-10-21T06:02:36.836550",
     "status": "completed"
    },
    "tags": []
   },
   "outputs": [],
   "source": [
    "sample_submission= pd.read_csv('/kaggle/input/playground-series-s3e23/sample_submission.csv')"
   ]
  },
  {
   "cell_type": "code",
   "execution_count": 41,
   "id": "b8c4a262",
   "metadata": {
    "execution": {
     "iopub.execute_input": "2023-10-21T06:02:36.953674Z",
     "iopub.status.busy": "2023-10-21T06:02:36.952610Z",
     "iopub.status.idle": "2023-10-21T06:02:36.964101Z",
     "shell.execute_reply": "2023-10-21T06:02:36.962947Z"
    },
    "papermill": {
     "duration": 0.0396,
     "end_time": "2023-10-21T06:02:36.966669",
     "exception": false,
     "start_time": "2023-10-21T06:02:36.927069",
     "status": "completed"
    },
    "tags": []
   },
   "outputs": [
    {
     "data": {
      "text/html": [
       "<div>\n",
       "<style scoped>\n",
       "    .dataframe tbody tr th:only-of-type {\n",
       "        vertical-align: middle;\n",
       "    }\n",
       "\n",
       "    .dataframe tbody tr th {\n",
       "        vertical-align: top;\n",
       "    }\n",
       "\n",
       "    .dataframe thead th {\n",
       "        text-align: right;\n",
       "    }\n",
       "</style>\n",
       "<table border=\"1\" class=\"dataframe\">\n",
       "  <thead>\n",
       "    <tr style=\"text-align: right;\">\n",
       "      <th></th>\n",
       "      <th>id</th>\n",
       "      <th>defects</th>\n",
       "    </tr>\n",
       "  </thead>\n",
       "  <tbody>\n",
       "    <tr>\n",
       "      <th>0</th>\n",
       "      <td>101763</td>\n",
       "      <td>0.5</td>\n",
       "    </tr>\n",
       "    <tr>\n",
       "      <th>1</th>\n",
       "      <td>101764</td>\n",
       "      <td>0.5</td>\n",
       "    </tr>\n",
       "    <tr>\n",
       "      <th>2</th>\n",
       "      <td>101765</td>\n",
       "      <td>0.5</td>\n",
       "    </tr>\n",
       "    <tr>\n",
       "      <th>3</th>\n",
       "      <td>101766</td>\n",
       "      <td>0.5</td>\n",
       "    </tr>\n",
       "    <tr>\n",
       "      <th>4</th>\n",
       "      <td>101767</td>\n",
       "      <td>0.5</td>\n",
       "    </tr>\n",
       "  </tbody>\n",
       "</table>\n",
       "</div>"
      ],
      "text/plain": [
       "       id  defects\n",
       "0  101763      0.5\n",
       "1  101764      0.5\n",
       "2  101765      0.5\n",
       "3  101766      0.5\n",
       "4  101767      0.5"
      ]
     },
     "execution_count": 41,
     "metadata": {},
     "output_type": "execute_result"
    }
   ],
   "source": [
    "sample_submission.head(5)"
   ]
  },
  {
   "cell_type": "code",
   "execution_count": 42,
   "id": "215f8414",
   "metadata": {
    "execution": {
     "iopub.execute_input": "2023-10-21T06:02:37.018996Z",
     "iopub.status.busy": "2023-10-21T06:02:37.018611Z",
     "iopub.status.idle": "2023-10-21T06:02:37.023933Z",
     "shell.execute_reply": "2023-10-21T06:02:37.022998Z"
    },
    "papermill": {
     "duration": 0.034866,
     "end_time": "2023-10-21T06:02:37.026262",
     "exception": false,
     "start_time": "2023-10-21T06:02:36.991396",
     "status": "completed"
    },
    "tags": []
   },
   "outputs": [],
   "source": [
    "sample_submission['defects'] = predictions"
   ]
  },
  {
   "cell_type": "code",
   "execution_count": 43,
   "id": "b045b683",
   "metadata": {
    "execution": {
     "iopub.execute_input": "2023-10-21T06:02:37.079845Z",
     "iopub.status.busy": "2023-10-21T06:02:37.078676Z",
     "iopub.status.idle": "2023-10-21T06:02:37.090128Z",
     "shell.execute_reply": "2023-10-21T06:02:37.088736Z"
    },
    "papermill": {
     "duration": 0.04077,
     "end_time": "2023-10-21T06:02:37.092563",
     "exception": false,
     "start_time": "2023-10-21T06:02:37.051793",
     "status": "completed"
    },
    "tags": []
   },
   "outputs": [
    {
     "data": {
      "text/html": [
       "<div>\n",
       "<style scoped>\n",
       "    .dataframe tbody tr th:only-of-type {\n",
       "        vertical-align: middle;\n",
       "    }\n",
       "\n",
       "    .dataframe tbody tr th {\n",
       "        vertical-align: top;\n",
       "    }\n",
       "\n",
       "    .dataframe thead th {\n",
       "        text-align: right;\n",
       "    }\n",
       "</style>\n",
       "<table border=\"1\" class=\"dataframe\">\n",
       "  <thead>\n",
       "    <tr style=\"text-align: right;\">\n",
       "      <th></th>\n",
       "      <th>id</th>\n",
       "      <th>defects</th>\n",
       "    </tr>\n",
       "  </thead>\n",
       "  <tbody>\n",
       "    <tr>\n",
       "      <th>0</th>\n",
       "      <td>101763</td>\n",
       "      <td>0.248398</td>\n",
       "    </tr>\n",
       "    <tr>\n",
       "      <th>1</th>\n",
       "      <td>101764</td>\n",
       "      <td>0.215067</td>\n",
       "    </tr>\n",
       "    <tr>\n",
       "      <th>2</th>\n",
       "      <td>101765</td>\n",
       "      <td>0.583395</td>\n",
       "    </tr>\n",
       "    <tr>\n",
       "      <th>3</th>\n",
       "      <td>101766</td>\n",
       "      <td>0.368990</td>\n",
       "    </tr>\n",
       "    <tr>\n",
       "      <th>4</th>\n",
       "      <td>101767</td>\n",
       "      <td>0.164830</td>\n",
       "    </tr>\n",
       "  </tbody>\n",
       "</table>\n",
       "</div>"
      ],
      "text/plain": [
       "       id   defects\n",
       "0  101763  0.248398\n",
       "1  101764  0.215067\n",
       "2  101765  0.583395\n",
       "3  101766  0.368990\n",
       "4  101767  0.164830"
      ]
     },
     "execution_count": 43,
     "metadata": {},
     "output_type": "execute_result"
    }
   ],
   "source": [
    "sample_submission.head(5)"
   ]
  },
  {
   "cell_type": "code",
   "execution_count": 44,
   "id": "9ed81467",
   "metadata": {
    "execution": {
     "iopub.execute_input": "2023-10-21T06:02:37.144963Z",
     "iopub.status.busy": "2023-10-21T06:02:37.144043Z",
     "iopub.status.idle": "2023-10-21T06:02:37.448748Z",
     "shell.execute_reply": "2023-10-21T06:02:37.447541Z"
    },
    "papermill": {
     "duration": 0.334129,
     "end_time": "2023-10-21T06:02:37.451687",
     "exception": false,
     "start_time": "2023-10-21T06:02:37.117558",
     "status": "completed"
    },
    "tags": []
   },
   "outputs": [],
   "source": [
    "sample_submission.reset_index(drop=True, inplace=True)\n",
    "sample_submission.to_csv('sample_submission.csv',index = False)"
   ]
  },
  {
   "cell_type": "code",
   "execution_count": null,
   "id": "f2a89557",
   "metadata": {
    "papermill": {
     "duration": 0.024644,
     "end_time": "2023-10-21T06:02:37.501357",
     "exception": false,
     "start_time": "2023-10-21T06:02:37.476713",
     "status": "completed"
    },
    "tags": []
   },
   "outputs": [],
   "source": []
  }
 ],
 "metadata": {
  "kernelspec": {
   "display_name": "Python 3 (ipykernel)",
   "language": "python",
   "name": "python3"
  },
  "language_info": {
   "codemirror_mode": {
    "name": "ipython",
    "version": 3
   },
   "file_extension": ".py",
   "mimetype": "text/x-python",
   "name": "python",
   "nbconvert_exporter": "python",
   "pygments_lexer": "ipython3",
   "version": "3.11.4"
  },
  "papermill": {
   "default_parameters": {},
   "duration": 91.960324,
   "end_time": "2023-10-21T06:02:38.147775",
   "environment_variables": {},
   "exception": null,
   "input_path": "__notebook__.ipynb",
   "output_path": "__notebook__.ipynb",
   "parameters": {},
   "start_time": "2023-10-21T06:01:06.187451",
   "version": "2.4.0"
  }
 },
 "nbformat": 4,
 "nbformat_minor": 5
}
